{
 "cells": [
  {
   "cell_type": "code",
   "execution_count": 0,
   "metadata": {
    "application/vnd.databricks.v1+cell": {
     "cellMetadata": {
      "byteLimit": 2048000,
      "rowLimit": 10000
     },
     "inputWidgets": {},
     "nuid": "3f295593-4012-4f61-96a1-1abb82cf33ea",
     "showTitle": false,
     "tableResultSettingsMap": {},
     "title": ""
    }
   },
   "outputs": [
    {
     "output_type": "stream",
     "name": "stdout",
     "output_type": "stream",
     "text": [
      "Requirement already satisfied: langchain in /local_disk0/.ephemeral_nfs/envs/pythonEnv-2a49ba4a-c81a-4f88-bbca-5dc3e21f3747/lib/python3.11/site-packages (0.3.24)\nRequirement already satisfied: langchain-google-genai in /local_disk0/.ephemeral_nfs/envs/pythonEnv-2a49ba4a-c81a-4f88-bbca-5dc3e21f3747/lib/python3.11/site-packages (2.1.3)\nCollecting google-generativeai\n  Downloading google_generativeai-0.8.5-py3-none-any.whl.metadata (3.9 kB)\nRequirement already satisfied: langchain-core<1.0.0,>=0.3.55 in /local_disk0/.ephemeral_nfs/envs/pythonEnv-2a49ba4a-c81a-4f88-bbca-5dc3e21f3747/lib/python3.11/site-packages (from langchain) (0.3.55)\nRequirement already satisfied: langchain-text-splitters<1.0.0,>=0.3.8 in /local_disk0/.ephemeral_nfs/envs/pythonEnv-2a49ba4a-c81a-4f88-bbca-5dc3e21f3747/lib/python3.11/site-packages (from langchain) (0.3.8)\nRequirement already satisfied: langsmith<0.4,>=0.1.17 in /local_disk0/.ephemeral_nfs/envs/pythonEnv-2a49ba4a-c81a-4f88-bbca-5dc3e21f3747/lib/python3.11/site-packages (from langchain) (0.3.33)\nRequirement already satisfied: pydantic<3.0.0,>=2.7.4 in /local_disk0/.ephemeral_nfs/envs/pythonEnv-2a49ba4a-c81a-4f88-bbca-5dc3e21f3747/lib/python3.11/site-packages (from langchain) (2.11.3)\nRequirement already satisfied: SQLAlchemy<3,>=1.4 in /local_disk0/.ephemeral_nfs/envs/pythonEnv-2a49ba4a-c81a-4f88-bbca-5dc3e21f3747/lib/python3.11/site-packages (from langchain) (2.0.40)\nRequirement already satisfied: requests<3,>=2 in /databricks/python3/lib/python3.11/site-packages (from langchain) (2.31.0)\nRequirement already satisfied: PyYAML>=5.3 in /databricks/python3/lib/python3.11/site-packages (from langchain) (6.0)\nRequirement already satisfied: filetype<2.0.0,>=1.2.0 in /local_disk0/.ephemeral_nfs/envs/pythonEnv-2a49ba4a-c81a-4f88-bbca-5dc3e21f3747/lib/python3.11/site-packages (from langchain-google-genai) (1.2.0)\nRequirement already satisfied: google-ai-generativelanguage<0.7.0,>=0.6.16 in /local_disk0/.ephemeral_nfs/envs/pythonEnv-2a49ba4a-c81a-4f88-bbca-5dc3e21f3747/lib/python3.11/site-packages (from langchain-google-genai) (0.6.17)\nINFO: pip is looking at multiple versions of google-generativeai to determine which version is compatible with other requirements. This could take a while.\n  Downloading google_generativeai-0.8.4-py3-none-any.whl.metadata (4.2 kB)\n  Downloading google_generativeai-0.8.3-py3-none-any.whl.metadata (3.9 kB)\n  Downloading google_generativeai-0.8.2-py3-none-any.whl.metadata (3.9 kB)\n  Downloading google_generativeai-0.8.1-py3-none-any.whl.metadata (3.9 kB)\n  Downloading google_generativeai-0.8.0-py3-none-any.whl.metadata (3.9 kB)\n  Downloading google_generativeai-0.7.2-py3-none-any.whl.metadata (4.0 kB)\n  Downloading google_generativeai-0.7.1-py3-none-any.whl.metadata (3.9 kB)\nINFO: pip is still looking at multiple versions of google-generativeai to determine which version is compatible with other requirements. This could take a while.\n  Downloading google_generativeai-0.7.0-py3-none-any.whl.metadata (3.9 kB)\n  Downloading google_generativeai-0.6.0-py3-none-any.whl.metadata (3.9 kB)\n  Downloading google_generativeai-0.5.4-py3-none-any.whl.metadata (3.9 kB)\n  Downloading google_generativeai-0.5.3-py3-none-any.whl.metadata (3.9 kB)\n  Downloading google_generativeai-0.5.2-py3-none-any.whl.metadata (3.9 kB)\nINFO: This is taking longer than usual. You might need to provide the dependency resolver with stricter constraints to reduce runtime. See https://pip.pypa.io/warnings/backtracking for guidance. If you want to abort this run, press Ctrl + C.\n  Downloading google_generativeai-0.5.1-py3-none-any.whl.metadata (3.9 kB)\n  Downloading google_generativeai-0.5.0-py3-none-any.whl.metadata (3.9 kB)\n  Downloading google_generativeai-0.4.1-py3-none-any.whl.metadata (6.2 kB)\n  Downloading google_generativeai-0.4.0-py3-none-any.whl.metadata (6.2 kB)\n  Downloading google_generativeai-0.3.2-py3-none-any.whl.metadata (5.9 kB)\n  Downloading google_generativeai-0.3.1-py3-none-any.whl.metadata (5.9 kB)\n  Downloading google_generativeai-0.3.0-py3-none-any.whl.metadata (5.8 kB)\n  Downloading google_generativeai-0.2.2-py3-none-any.whl.metadata (3.1 kB)\n  Downloading google_generativeai-0.2.1-py3-none-any.whl.metadata (3.1 kB)\n  Downloading google_generativeai-0.2.0-py3-none-any.whl.metadata (3.1 kB)\n  Downloading google_generativeai-0.1.0-py3-none-any.whl.metadata (3.0 kB)\nCollecting langchain-google-genai\n  Using cached langchain_google_genai-2.1.3-py3-none-any.whl.metadata (4.7 kB)\n  Downloading langchain_google_genai-2.1.2-py3-none-any.whl.metadata (4.7 kB)\n  Downloading langchain_google_genai-2.1.1-py3-none-any.whl.metadata (4.7 kB)\n  Downloading langchain_google_genai-2.1.0-py3-none-any.whl.metadata (3.6 kB)\n  Downloading langchain_google_genai-2.0.11-py3-none-any.whl.metadata (3.6 kB)\n  Downloading langchain_google_genai-2.0.10-py3-none-any.whl.metadata (3.6 kB)\nCollecting google-ai-generativelanguage==0.6.15 (from google-generativeai)\n  Downloading google_ai_generativelanguage-0.6.15-py3-none-any.whl.metadata (5.7 kB)\nRequirement already satisfied: google-api-core in /databricks/python3/lib/python3.11/site-packages (from google-generativeai) (2.18.0)\nCollecting google-api-python-client (from google-generativeai)\n  Downloading google_api_python_client-2.168.0-py3-none-any.whl.metadata (6.7 kB)\nRequirement already satisfied: google-auth>=2.15.0 in /databricks/python3/lib/python3.11/site-packages (from google-generativeai) (2.35.0)\nRequirement already satisfied: protobuf in /local_disk0/.ephemeral_nfs/envs/pythonEnv-2a49ba4a-c81a-4f88-bbca-5dc3e21f3747/lib/python3.11/site-packages (from google-generativeai) (4.25.7)\nRequirement already satisfied: tqdm in /local_disk0/.ephemeral_nfs/envs/pythonEnv-2a49ba4a-c81a-4f88-bbca-5dc3e21f3747/lib/python3.11/site-packages (from google-generativeai) (4.67.1)\nRequirement already satisfied: typing-extensions in /local_disk0/.ephemeral_nfs/envs/pythonEnv-2a49ba4a-c81a-4f88-bbca-5dc3e21f3747/lib/python3.11/site-packages (from google-generativeai) (4.13.2)\nRequirement already satisfied: proto-plus<2.0.0dev,>=1.22.3 in /databricks/python3/lib/python3.11/site-packages (from google-ai-generativelanguage==0.6.15->google-generativeai) (1.25.0)\nRequirement already satisfied: googleapis-common-protos<2.0.dev0,>=1.56.2 in /databricks/python3/lib/python3.11/site-packages (from google-api-core->google-generativeai) (1.65.0)\nRequirement already satisfied: cachetools<6.0,>=2.0.0 in /databricks/python3/lib/python3.11/site-packages (from google-auth>=2.15.0->google-generativeai) (5.5.0)\nRequirement already satisfied: pyasn1-modules>=0.2.1 in /databricks/python3/lib/python3.11/site-packages (from google-auth>=2.15.0->google-generativeai) (0.2.8)\nRequirement already satisfied: rsa<5,>=3.1.4 in /databricks/python3/lib/python3.11/site-packages (from google-auth>=2.15.0->google-generativeai) (4.9)\nRequirement already satisfied: tenacity!=8.4.0,<10.0.0,>=8.1.0 in /databricks/python3/lib/python3.11/site-packages (from langchain-core<1.0.0,>=0.3.55->langchain) (8.2.2)\nRequirement already satisfied: jsonpatch<2.0,>=1.33 in /local_disk0/.ephemeral_nfs/envs/pythonEnv-2a49ba4a-c81a-4f88-bbca-5dc3e21f3747/lib/python3.11/site-packages (from langchain-core<1.0.0,>=0.3.55->langchain) (1.33)\nRequirement already satisfied: packaging<25,>=23.2 in /databricks/python3/lib/python3.11/site-packages (from langchain-core<1.0.0,>=0.3.55->langchain) (23.2)\nRequirement already satisfied: httpx<1,>=0.23.0 in /local_disk0/.ephemeral_nfs/envs/pythonEnv-2a49ba4a-c81a-4f88-bbca-5dc3e21f3747/lib/python3.11/site-packages (from langsmith<0.4,>=0.1.17->langchain) (0.28.1)\nRequirement already satisfied: orjson<4.0.0,>=3.9.14 in /local_disk0/.ephemeral_nfs/envs/pythonEnv-2a49ba4a-c81a-4f88-bbca-5dc3e21f3747/lib/python3.11/site-packages (from langsmith<0.4,>=0.1.17->langchain) (3.10.16)\nRequirement already satisfied: requests-toolbelt<2.0.0,>=1.0.0 in /local_disk0/.ephemeral_nfs/envs/pythonEnv-2a49ba4a-c81a-4f88-bbca-5dc3e21f3747/lib/python3.11/site-packages (from langsmith<0.4,>=0.1.17->langchain) (1.0.0)\nRequirement already satisfied: zstandard<0.24.0,>=0.23.0 in /databricks/python3/lib/python3.11/site-packages (from langsmith<0.4,>=0.1.17->langchain) (0.23.0)\nRequirement already satisfied: annotated-types>=0.6.0 in /local_disk0/.ephemeral_nfs/envs/pythonEnv-2a49ba4a-c81a-4f88-bbca-5dc3e21f3747/lib/python3.11/site-packages (from pydantic<3.0.0,>=2.7.4->langchain) (0.7.0)\nRequirement already satisfied: pydantic-core==2.33.1 in /local_disk0/.ephemeral_nfs/envs/pythonEnv-2a49ba4a-c81a-4f88-bbca-5dc3e21f3747/lib/python3.11/site-packages (from pydantic<3.0.0,>=2.7.4->langchain) (2.33.1)\nRequirement already satisfied: typing-inspection>=0.4.0 in /local_disk0/.ephemeral_nfs/envs/pythonEnv-2a49ba4a-c81a-4f88-bbca-5dc3e21f3747/lib/python3.11/site-packages (from pydantic<3.0.0,>=2.7.4->langchain) (0.4.0)\nRequirement already satisfied: charset-normalizer<4,>=2 in /databricks/python3/lib/python3.11/site-packages (from requests<3,>=2->langchain) (2.0.4)\nRequirement already satisfied: idna<4,>=2.5 in /databricks/python3/lib/python3.11/site-packages (from requests<3,>=2->langchain) (3.4)\nRequirement already satisfied: urllib3<3,>=1.21.1 in /databricks/python3/lib/python3.11/site-packages (from requests<3,>=2->langchain) (1.26.16)\nRequirement already satisfied: certifi>=2017.4.17 in /databricks/python3/lib/python3.11/site-packages (from requests<3,>=2->langchain) (2023.7.22)\nRequirement already satisfied: greenlet>=1 in /local_disk0/.ephemeral_nfs/envs/pythonEnv-2a49ba4a-c81a-4f88-bbca-5dc3e21f3747/lib/python3.11/site-packages (from SQLAlchemy<3,>=1.4->langchain) (3.2.1)\nRequirement already satisfied: httplib2<1.0.0,>=0.19.0 in /usr/lib/python3/dist-packages (from google-api-python-client->google-generativeai) (0.20.2)\nCollecting google-auth-httplib2<1.0.0,>=0.2.0 (from google-api-python-client->google-generativeai)\n  Downloading google_auth_httplib2-0.2.0-py2.py3-none-any.whl.metadata (2.2 kB)\nCollecting uritemplate<5,>=3.0.1 (from google-api-python-client->google-generativeai)\n  Downloading uritemplate-4.1.1-py2.py3-none-any.whl.metadata (2.9 kB)\nRequirement already satisfied: grpcio<2.0dev,>=1.33.2 in /databricks/python3/lib/python3.11/site-packages (from google-api-core[grpc]!=2.0.*,!=2.1.*,!=2.10.*,!=2.2.*,!=2.3.*,!=2.4.*,!=2.5.*,!=2.6.*,!=2.7.*,!=2.8.*,!=2.9.*,<3.0.0dev,>=1.34.1->google-ai-generativelanguage==0.6.15->google-generativeai) (1.69.0)\nRequirement already satisfied: grpcio-status<2.0.dev0,>=1.33.2 in /local_disk0/.ephemeral_nfs/envs/pythonEnv-2a49ba4a-c81a-4f88-bbca-5dc3e21f3747/lib/python3.11/site-packages (from google-api-core[grpc]!=2.0.*,!=2.1.*,!=2.10.*,!=2.2.*,!=2.3.*,!=2.4.*,!=2.5.*,!=2.6.*,!=2.7.*,!=2.8.*,!=2.9.*,<3.0.0dev,>=1.34.1->google-ai-generativelanguage==0.6.15->google-generativeai) (1.62.3)\nRequirement already satisfied: pyparsing!=3.0.0,!=3.0.1,!=3.0.2,!=3.0.3,<4,>=2.4.2 in /databricks/python3/lib/python3.11/site-packages (from httplib2<1.0.0,>=0.19.0->google-api-python-client->google-generativeai) (3.0.9)\nRequirement already satisfied: anyio in /local_disk0/.ephemeral_nfs/envs/pythonEnv-2a49ba4a-c81a-4f88-bbca-5dc3e21f3747/lib/python3.11/site-packages (from httpx<1,>=0.23.0->langsmith<0.4,>=0.1.17->langchain) (4.9.0)\nRequirement already satisfied: httpcore==1.* in /local_disk0/.ephemeral_nfs/envs/pythonEnv-2a49ba4a-c81a-4f88-bbca-5dc3e21f3747/lib/python3.11/site-packages (from httpx<1,>=0.23.0->langsmith<0.4,>=0.1.17->langchain) (1.0.8)\nRequirement already satisfied: h11<0.15,>=0.13 in /local_disk0/.ephemeral_nfs/envs/pythonEnv-2a49ba4a-c81a-4f88-bbca-5dc3e21f3747/lib/python3.11/site-packages (from httpcore==1.*->httpx<1,>=0.23.0->langsmith<0.4,>=0.1.17->langchain) (0.14.0)\nRequirement already satisfied: jsonpointer>=1.9 in /local_disk0/.ephemeral_nfs/envs/pythonEnv-2a49ba4a-c81a-4f88-bbca-5dc3e21f3747/lib/python3.11/site-packages (from jsonpatch<2.0,>=1.33->langchain-core<1.0.0,>=0.3.55->langchain) (3.0.0)\nRequirement already satisfied: pyasn1<0.5.0,>=0.4.6 in /databricks/python3/lib/python3.11/site-packages (from pyasn1-modules>=0.2.1->google-auth>=2.15.0->google-generativeai) (0.4.8)\nRequirement already satisfied: sniffio>=1.1 in /local_disk0/.ephemeral_nfs/envs/pythonEnv-2a49ba4a-c81a-4f88-bbca-5dc3e21f3747/lib/python3.11/site-packages (from anyio->httpx<1,>=0.23.0->langsmith<0.4,>=0.1.17->langchain) (1.3.1)\nDownloading langchain_google_genai-2.0.10-py3-none-any.whl (41 kB)\nDownloading google_generativeai-0.8.5-py3-none-any.whl (155 kB)\nDownloading google_ai_generativelanguage-0.6.15-py3-none-any.whl (1.3 MB)\n\u001B[?25l   \u001B[90m━━━━━━━━━━━━━━━━━━━━━━━━━━━━━━━━━━━━━━━━\u001B[0m \u001B[32m0.0/1.3 MB\u001B[0m \u001B[31m?\u001B[0m eta \u001B[36m-:--:--\u001B[0m\n\u001B[2K   \u001B[90m━━━━━━━━━━━━━━━━━━━━━━━━━━━━━━━━━━━━━━━━\u001B[0m \u001B[32m1.3/1.3 MB\u001B[0m \u001B[31m76.0 MB/s\u001B[0m eta \u001B[36m0:00:00\u001B[0m\n\u001B[?25hDownloading google_api_python_client-2.168.0-py3-none-any.whl (13.3 MB)\n\u001B[?25l   \u001B[90m━━━━━━━━━━━━━━━━━━━━━━━━━━━━━━━━━━━━━━━━\u001B[0m \u001B[32m0.0/13.3 MB\u001B[0m \u001B[31m?\u001B[0m eta \u001B[36m-:--:--\u001B[0m\n\u001B[2K   \u001B[90m━━━━━━━━━━━━━━━━━━━━━━━━━━━━━━━━━━━━━━━━\u001B[0m \u001B[32m13.3/13.3 MB\u001B[0m \u001B[31m134.8 MB/s\u001B[0m eta \u001B[36m0:00:00\u001B[0m\n\u001B[?25hDownloading google_auth_httplib2-0.2.0-py2.py3-none-any.whl (9.3 kB)\nDownloading uritemplate-4.1.1-py2.py3-none-any.whl (10 kB)\nInstalling collected packages: uritemplate, google-auth-httplib2, google-api-python-client, google-ai-generativelanguage, google-generativeai, langchain-google-genai\n  Attempting uninstall: google-ai-generativelanguage\n    Found existing installation: google-ai-generativelanguage 0.6.17\n    Uninstalling google-ai-generativelanguage-0.6.17:\n      Successfully uninstalled google-ai-generativelanguage-0.6.17\n  Attempting uninstall: langchain-google-genai\n    Found existing installation: langchain-google-genai 2.1.3\n    Uninstalling langchain-google-genai-2.1.3:\n      Successfully uninstalled langchain-google-genai-2.1.3\nSuccessfully installed google-ai-generativelanguage-0.6.15 google-api-python-client-2.168.0 google-auth-httplib2-0.2.0 google-generativeai-0.8.5 langchain-google-genai-2.0.10 uritemplate-4.1.1\n\u001B[43mNote: you may need to restart the kernel using %restart_python or dbutils.library.restartPython() to use updated packages.\u001B[0m\n"
     ]
    }
   ],
   "source": [
    "%pip install -U langchain langchain-google-genai google-generativeai\n"
   ]
  },
  {
   "cell_type": "code",
   "execution_count": 0,
   "metadata": {
    "application/vnd.databricks.v1+cell": {
     "cellMetadata": {
      "byteLimit": 2048000,
      "rowLimit": 10000
     },
     "inputWidgets": {},
     "nuid": "a0fbf955-137c-4caf-85af-10d245c46242",
     "showTitle": false,
     "tableResultSettingsMap": {},
     "title": ""
    }
   },
   "outputs": [],
   "source": [
    "dbutils.library.restartPython()"
   ]
  },
  {
   "cell_type": "code",
   "execution_count": 0,
   "metadata": {
    "application/vnd.databricks.v1+cell": {
     "cellMetadata": {
      "byteLimit": 2048000,
      "rowLimit": 10000
     },
     "inputWidgets": {},
     "nuid": "529f29d4-dcc0-4e9e-b49f-f08681f4a373",
     "showTitle": false,
     "tableResultSettingsMap": {},
     "title": ""
    }
   },
   "outputs": [],
   "source": [
    "import os\n",
    "from langchain_google_genai import ChatGoogleGenerativeAI\n",
    "from langchain_core.prompts import ChatPromptTemplate\n",
    "\n",
    "os.environ[\"GOOGLE_API_KEY\"] = \"hidden-api-key\""
   ]
  },
  {
   "cell_type": "code",
   "execution_count": 0,
   "metadata": {
    "application/vnd.databricks.v1+cell": {
     "cellMetadata": {
      "byteLimit": 2048000,
      "rowLimit": 10000
     },
     "inputWidgets": {},
     "nuid": "eb2f6ea5-790c-4287-aee6-1ce70dcec22f",
     "showTitle": false,
     "tableResultSettingsMap": {},
     "title": ""
    }
   },
   "outputs": [],
   "source": [
    "llm = ChatGoogleGenerativeAI(\n",
    "    model=\"models/gemini-1.5-pro-latest\",\n",
    "    temperature=0.0\n",
    ")"
   ]
  },
  {
   "cell_type": "code",
   "execution_count": 0,
   "metadata": {
    "application/vnd.databricks.v1+cell": {
     "cellMetadata": {
      "byteLimit": 2048000,
      "rowLimit": 10000
     },
     "inputWidgets": {},
     "nuid": "dd348586-1324-4c42-bad5-140b4896bdef",
     "showTitle": false,
     "tableResultSettingsMap": {},
     "title": ""
    }
   },
   "outputs": [],
   "source": [
    "classes = \"Greeting, Complaint, Request, Thanks\"\n",
    "\n",
    "example_inputs = [\n",
    "    \"Hi\",\n",
    "    \"This is not acceptable\",\n",
    "    \"Can you help me reset it?\",\n",
    "    \"Appreciate your help\"\n",
    "]"
   ]
  },
  {
   "cell_type": "code",
   "execution_count": 0,
   "metadata": {
    "application/vnd.databricks.v1+cell": {
     "cellMetadata": {
      "byteLimit": 2048000,
      "rowLimit": 10000
     },
     "inputWidgets": {},
     "nuid": "2f0c274e-569a-4716-94c4-f364cd67fdd0",
     "showTitle": false,
     "tableResultSettingsMap": {},
     "title": ""
    }
   },
   "outputs": [
    {
     "output_type": "stream",
     "name": "stdout",
     "output_type": "stream",
     "text": [
      "Input: Hi\nCategory: Greeting\n----------------------------------------\nInput: This is not acceptable\nCategory: Complaint\n----------------------------------------\nInput: Can you help me reset it?\nCategory: Request\n----------------------------------------\nInput: Appreciate your help\nCategory: Thanks\n----------------------------------------\n"
     ]
    }
   ],
   "source": [
    "#  Zero-shot \n",
    "prompt_zero = ChatPromptTemplate.from_template(\n",
    "    \"Classify this into one of the categories: {classes}\\n\\nInput: {text}\\nCategory:\"\n",
    ")\n",
    "\n",
    "chain_zero = prompt_zero | llm\n",
    "\n",
    "for text in example_inputs:\n",
    "    print(f\"Input: {text}\")\n",
    "    print(\"Category:\", chain_zero.invoke({\"text\": text, \"classes\": classes}).content.strip())\n",
    "    print(\"-\" * 40)"
   ]
  },
  {
   "cell_type": "code",
   "execution_count": 0,
   "metadata": {
    "application/vnd.databricks.v1+cell": {
     "cellMetadata": {
      "byteLimit": 2048000,
      "rowLimit": 10000
     },
     "inputWidgets": {},
     "nuid": "76267d94-dc65-4da0-955b-87f020467787",
     "showTitle": false,
     "tableResultSettingsMap": {},
     "title": ""
    }
   },
   "outputs": [
    {
     "output_type": "stream",
     "name": "stdout",
     "output_type": "stream",
     "text": [
      "Input: Hi\nCategory: Greeting\n----------------------------------------\nInput: This is not acceptable\nCategory: Complaint\n----------------------------------------\nInput: Can you help me reset it?\nCategory: Request\n----------------------------------------\nInput: Appreciate your help\nCategory: Thanks\n----------------------------------------\n"
     ]
    }
   ],
   "source": [
    "#  One-shot\n",
    "prompt_one = ChatPromptTemplate.from_template(\n",
    "    \"\"\"Classify into one of: {classes}\n",
    "\n",
    "Example:\n",
    "Input: Thanks a lot!\n",
    "Category: Thanks\n",
    "\n",
    "Input: {text}\n",
    "Category:\"\"\"\n",
    ")\n",
    "\n",
    "chain_one = prompt_one | llm\n",
    "\n",
    "for text in example_inputs:\n",
    "    print(f\"Input: {text}\")\n",
    "    print(\"Category:\", chain_one.invoke({\"text\": text, \"classes\": classes}).content.strip())\n",
    "    print(\"-\" * 40)"
   ]
  },
  {
   "cell_type": "code",
   "execution_count": 0,
   "metadata": {
    "application/vnd.databricks.v1+cell": {
     "cellMetadata": {
      "byteLimit": 2048000,
      "rowLimit": 10000
     },
     "inputWidgets": {},
     "nuid": "1844e0ec-fd33-4e91-aa2a-b2aad44104c8",
     "showTitle": false,
     "tableResultSettingsMap": {},
     "title": ""
    }
   },
   "outputs": [
    {
     "output_type": "stream",
     "name": "stdout",
     "output_type": "stream",
     "text": [
      "Input: Hi\nCategory: Greeting\n----------------------------------------\nInput: This is not acceptable\nCategory: Complaint\n----------------------------------------\nInput: Can you help me reset it?\nCategory: Request\n----------------------------------------\nInput: Appreciate your help\nCategory: Thanks\n----------------------------------------\n"
     ]
    }
   ],
   "source": [
    "#  Few-shot \n",
    "prompt_few = ChatPromptTemplate.from_template(\n",
    "    \"\"\"Classify this input into: {classes}\n",
    "\n",
    "Examples:\n",
    "Input: Hello!\n",
    "Category: Greeting\n",
    "\n",
    "Input: I need help with my account.\n",
    "Category: Request\n",
    "\n",
    "Input: {text}\n",
    "Category:\"\"\"\n",
    ")\n",
    "\n",
    "chain_few = prompt_few | llm\n",
    "\n",
    "for text in example_inputs:\n",
    "    print(f\"Input: {text}\")\n",
    "    print(\"Category:\", chain_few.invoke({\"text\": text, \"classes\": classes}).content.strip())\n",
    "    print(\"-\" * 40)"
   ]
  }
 ],
 "metadata": {
  "application/vnd.databricks.v1+notebook": {
   "computePreferences": null,
   "dashboards": [],
   "environmentMetadata": {
    "base_environment": "",
    "environment_version": "2"
   },
   "inputWidgetPreferences": null,
   "language": "python",
   "notebookMetadata": {
    "pythonIndentUnit": 4
   },
   "notebookName": "Classification pipelines using langchain",
   "widgets": {}
  },
  "language_info": {
   "name": "python"
  }
 },
 "nbformat": 4,
 "nbformat_minor": 0
}