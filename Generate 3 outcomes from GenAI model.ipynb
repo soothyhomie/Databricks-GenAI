{
 "cells": [
  {
   "cell_type": "markdown",
   "metadata": {
    "application/vnd.databricks.v1+cell": {
     "cellMetadata": {},
     "inputWidgets": {},
     "nuid": "ffe54105-5c68-4855-a8ed-88149af13d8a",
     "showTitle": false,
     "tableResultSettingsMap": {},
     "title": ""
    }
   },
   "source": [
    " \n",
    "#### Input a prompt from the user\n",
    "#### Generate 3 outcomes from a generative AI model:\n",
    "#### a. A story of 100 words about the prompt \n",
    "#### b. This story should be represented in a vector/embeddings format \n",
    "#### c. Find all Part-of-speeches in the generated story"
   ]
  },
  {
   "cell_type": "code",
   "execution_count": 0,
   "metadata": {
    "application/vnd.databricks.v1+cell": {
     "cellMetadata": {
      "byteLimit": 2048000,
      "rowLimit": 10000
     },
     "inputWidgets": {},
     "nuid": "25a8b9eb-578e-4786-a135-da2e567ec5a3",
     "showTitle": false,
     "tableResultSettingsMap": {},
     "title": ""
    }
   },
   "outputs": [
    {
     "output_type": "stream",
     "name": "stdout",
     "output_type": "stream",
     "text": [
      "Collecting langchain\n  Downloading langchain-0.3.24-py3-none-any.whl.metadata (7.8 kB)\nCollecting langchain-google-genai\n  Downloading langchain_google_genai-2.1.3-py3-none-any.whl.metadata (4.7 kB)\nCollecting google-generativeai\n  Downloading google_generativeai-0.8.5-py3-none-any.whl.metadata (3.9 kB)\nCollecting spacy\n  Downloading spacy-3.8.5-cp311-cp311-manylinux_2_17_x86_64.manylinux2014_x86_64.whl.metadata (27 kB)\nCollecting langchain-core<1.0.0,>=0.3.55 (from langchain)\n  Downloading langchain_core-0.3.56-py3-none-any.whl.metadata (5.9 kB)\nCollecting langchain-text-splitters<1.0.0,>=0.3.8 (from langchain)\n  Downloading langchain_text_splitters-0.3.8-py3-none-any.whl.metadata (1.9 kB)\nCollecting langsmith<0.4,>=0.1.17 (from langchain)\n  Downloading langsmith-0.3.34-py3-none-any.whl.metadata (15 kB)\nCollecting pydantic<3.0.0,>=2.7.4 (from langchain)\n  Downloading pydantic-2.11.3-py3-none-any.whl.metadata (65 kB)\nCollecting SQLAlchemy<3,>=1.4 (from langchain)\n  Downloading sqlalchemy-2.0.40-cp311-cp311-manylinux_2_17_x86_64.manylinux2014_x86_64.whl.metadata (9.6 kB)\nRequirement already satisfied: requests<3,>=2 in /databricks/python3/lib/python3.11/site-packages (from langchain) (2.31.0)\nRequirement already satisfied: PyYAML>=5.3 in /databricks/python3/lib/python3.11/site-packages (from langchain) (6.0)\nCollecting filetype<2.0.0,>=1.2.0 (from langchain-google-genai)\n  Downloading filetype-1.2.0-py2.py3-none-any.whl.metadata (6.5 kB)\nCollecting google-ai-generativelanguage<0.7.0,>=0.6.16 (from langchain-google-genai)\n  Downloading google_ai_generativelanguage-0.6.17-py3-none-any.whl.metadata (9.8 kB)\nINFO: pip is looking at multiple versions of google-generativeai to determine which version is compatible with other requirements. This could take a while.\nCollecting google-generativeai\n  Downloading google_generativeai-0.8.4-py3-none-any.whl.metadata (4.2 kB)\n  Downloading google_generativeai-0.8.3-py3-none-any.whl.metadata (3.9 kB)\n  Downloading google_generativeai-0.8.2-py3-none-any.whl.metadata (3.9 kB)\n  Downloading google_generativeai-0.8.1-py3-none-any.whl.metadata (3.9 kB)\n  Downloading google_generativeai-0.8.0-py3-none-any.whl.metadata (3.9 kB)\n  Downloading google_generativeai-0.7.2-py3-none-any.whl.metadata (4.0 kB)\n  Downloading google_generativeai-0.7.1-py3-none-any.whl.metadata (3.9 kB)\nINFO: pip is still looking at multiple versions of google-generativeai to determine which version is compatible with other requirements. This could take a while.\n  Downloading google_generativeai-0.7.0-py3-none-any.whl.metadata (3.9 kB)\n  Downloading google_generativeai-0.6.0-py3-none-any.whl.metadata (3.9 kB)\n  Downloading google_generativeai-0.5.4-py3-none-any.whl.metadata (3.9 kB)\n  Downloading google_generativeai-0.5.3-py3-none-any.whl.metadata (3.9 kB)\n  Downloading google_generativeai-0.5.2-py3-none-any.whl.metadata (3.9 kB)\nINFO: This is taking longer than usual. You might need to provide the dependency resolver with stricter constraints to reduce runtime. See https://pip.pypa.io/warnings/backtracking for guidance. If you want to abort this run, press Ctrl + C.\n  Downloading google_generativeai-0.5.1-py3-none-any.whl.metadata (3.9 kB)\n  Downloading google_generativeai-0.5.0-py3-none-any.whl.metadata (3.9 kB)\n  Downloading google_generativeai-0.4.1-py3-none-any.whl.metadata (6.2 kB)\n  Downloading google_generativeai-0.4.0-py3-none-any.whl.metadata (6.2 kB)\n  Downloading google_generativeai-0.3.2-py3-none-any.whl.metadata (5.9 kB)\n  Downloading google_generativeai-0.3.1-py3-none-any.whl.metadata (5.9 kB)\n  Downloading google_generativeai-0.3.0-py3-none-any.whl.metadata (5.8 kB)\n  Downloading google_generativeai-0.2.2-py3-none-any.whl.metadata (3.1 kB)\n  Downloading google_generativeai-0.2.1-py3-none-any.whl.metadata (3.1 kB)\n  Downloading google_generativeai-0.2.0-py3-none-any.whl.metadata (3.1 kB)\n  Downloading google_generativeai-0.1.0-py3-none-any.whl.metadata (3.0 kB)\nCollecting langchain-google-genai\n  Downloading langchain_google_genai-2.1.2-py3-none-any.whl.metadata (4.7 kB)\n  Downloading langchain_google_genai-2.1.1-py3-none-any.whl.metadata (4.7 kB)\n  Downloading langchain_google_genai-2.1.0-py3-none-any.whl.metadata (3.6 kB)\n  Downloading langchain_google_genai-2.0.11-py3-none-any.whl.metadata (3.6 kB)\n  Downloading langchain_google_genai-2.0.10-py3-none-any.whl.metadata (3.6 kB)\nCollecting google-ai-generativelanguage==0.6.15 (from google-generativeai)\n  Downloading google_ai_generativelanguage-0.6.15-py3-none-any.whl.metadata (5.7 kB)\nRequirement already satisfied: google-api-core in /databricks/python3/lib/python3.11/site-packages (from google-generativeai) (2.18.0)\nCollecting google-api-python-client (from google-generativeai)\n  Downloading google_api_python_client-2.168.0-py3-none-any.whl.metadata (6.7 kB)\nRequirement already satisfied: google-auth>=2.15.0 in /databricks/python3/lib/python3.11/site-packages (from google-generativeai) (2.35.0)\nRequirement already satisfied: protobuf in /databricks/python3/lib/python3.11/site-packages (from google-generativeai) (5.29.3)\nCollecting tqdm (from google-generativeai)\n  Downloading tqdm-4.67.1-py3-none-any.whl.metadata (57 kB)\nRequirement already satisfied: typing-extensions in /databricks/python3/lib/python3.11/site-packages (from google-generativeai) (4.10.0)\nRequirement already satisfied: proto-plus<2.0.0dev,>=1.22.3 in /databricks/python3/lib/python3.11/site-packages (from google-ai-generativelanguage==0.6.15->google-generativeai) (1.25.0)\nCollecting spacy-legacy<3.1.0,>=3.0.11 (from spacy)\n  Downloading spacy_legacy-3.0.12-py2.py3-none-any.whl.metadata (2.8 kB)\nCollecting spacy-loggers<2.0.0,>=1.0.0 (from spacy)\n  Downloading spacy_loggers-1.0.5-py3-none-any.whl.metadata (23 kB)\nCollecting murmurhash<1.1.0,>=0.28.0 (from spacy)\n  Downloading murmurhash-1.0.12-cp311-cp311-manylinux_2_5_x86_64.manylinux1_x86_64.manylinux_2_17_x86_64.manylinux2014_x86_64.whl.metadata (2.1 kB)\nCollecting cymem<2.1.0,>=2.0.2 (from spacy)\n  Downloading cymem-2.0.11-cp311-cp311-manylinux_2_17_x86_64.manylinux2014_x86_64.whl.metadata (8.5 kB)\nCollecting preshed<3.1.0,>=3.0.2 (from spacy)\n  Downloading preshed-3.0.9-cp311-cp311-manylinux_2_5_x86_64.manylinux1_x86_64.manylinux_2_17_x86_64.manylinux2014_x86_64.whl.metadata (2.2 kB)\nCollecting thinc<8.4.0,>=8.3.4 (from spacy)\n  Downloading thinc-8.3.6-cp311-cp311-manylinux_2_17_x86_64.manylinux2014_x86_64.whl.metadata (15 kB)\nCollecting wasabi<1.2.0,>=0.9.1 (from spacy)\n  Downloading wasabi-1.1.3-py3-none-any.whl.metadata (28 kB)\nCollecting srsly<3.0.0,>=2.4.3 (from spacy)\n  Downloading srsly-2.5.1-cp311-cp311-manylinux_2_17_x86_64.manylinux2014_x86_64.whl.metadata (19 kB)\nCollecting catalogue<2.1.0,>=2.0.6 (from spacy)\n  Downloading catalogue-2.0.10-py3-none-any.whl.metadata (14 kB)\nCollecting weasel<0.5.0,>=0.1.0 (from spacy)\n  Downloading weasel-0.4.1-py3-none-any.whl.metadata (4.6 kB)\nCollecting typer<1.0.0,>=0.3.0 (from spacy)\n  Downloading typer-0.15.2-py3-none-any.whl.metadata (15 kB)\nRequirement already satisfied: numpy>=1.19.0 in /databricks/python3/lib/python3.11/site-packages (from spacy) (1.23.5)\nCollecting jinja2 (from spacy)\n  Downloading jinja2-3.1.6-py3-none-any.whl.metadata (2.9 kB)\nRequirement already satisfied: setuptools in /databricks/python3/lib/python3.11/site-packages (from spacy) (75.1.0)\nRequirement already satisfied: packaging>=20.0 in /databricks/python3/lib/python3.11/site-packages (from spacy) (23.2)\nCollecting langcodes<4.0.0,>=3.2.0 (from spacy)\n  Downloading langcodes-3.5.0-py3-none-any.whl.metadata (29 kB)\nRequirement already satisfied: googleapis-common-protos<2.0.dev0,>=1.56.2 in /databricks/python3/lib/python3.11/site-packages (from google-api-core->google-generativeai) (1.65.0)\nCollecting protobuf (from google-generativeai)\n  Downloading protobuf-4.25.7-cp37-abi3-manylinux2014_x86_64.whl.metadata (541 bytes)\nRequirement already satisfied: cachetools<6.0,>=2.0.0 in /databricks/python3/lib/python3.11/site-packages (from google-auth>=2.15.0->google-generativeai) (5.5.0)\nRequirement already satisfied: pyasn1-modules>=0.2.1 in /databricks/python3/lib/python3.11/site-packages (from google-auth>=2.15.0->google-generativeai) (0.2.8)\nRequirement already satisfied: rsa<5,>=3.1.4 in /databricks/python3/lib/python3.11/site-packages (from google-auth>=2.15.0->google-generativeai) (4.9)\nRequirement already satisfied: tenacity!=8.4.0,<10.0.0,>=8.1.0 in /databricks/python3/lib/python3.11/site-packages (from langchain-core<1.0.0,>=0.3.55->langchain) (8.2.2)\nCollecting jsonpatch<2.0,>=1.33 (from langchain-core<1.0.0,>=0.3.55->langchain)\n  Downloading jsonpatch-1.33-py2.py3-none-any.whl.metadata (3.0 kB)\nCollecting language-data>=1.2 (from langcodes<4.0.0,>=3.2.0->spacy)\n  Downloading language_data-1.3.0-py3-none-any.whl.metadata (4.3 kB)\nCollecting httpx<1,>=0.23.0 (from langsmith<0.4,>=0.1.17->langchain)\n  Downloading httpx-0.28.1-py3-none-any.whl.metadata (7.1 kB)\nCollecting orjson<4.0.0,>=3.9.14 (from langsmith<0.4,>=0.1.17->langchain)\n  Downloading orjson-3.10.16-cp311-cp311-manylinux_2_17_x86_64.manylinux2014_x86_64.whl.metadata (41 kB)\nCollecting requests-toolbelt<2.0.0,>=1.0.0 (from langsmith<0.4,>=0.1.17->langchain)\n  Downloading requests_toolbelt-1.0.0-py2.py3-none-any.whl.metadata (14 kB)\nRequirement already satisfied: zstandard<0.24.0,>=0.23.0 in /databricks/python3/lib/python3.11/site-packages (from langsmith<0.4,>=0.1.17->langchain) (0.23.0)\nCollecting annotated-types>=0.6.0 (from pydantic<3.0.0,>=2.7.4->langchain)\n  Downloading annotated_types-0.7.0-py3-none-any.whl.metadata (15 kB)\nCollecting pydantic-core==2.33.1 (from pydantic<3.0.0,>=2.7.4->langchain)\n  Downloading pydantic_core-2.33.1-cp311-cp311-manylinux_2_17_x86_64.manylinux2014_x86_64.whl.metadata (6.8 kB)\nCollecting typing-extensions (from google-generativeai)\n  Downloading typing_extensions-4.13.2-py3-none-any.whl.metadata (3.0 kB)\nCollecting typing-inspection>=0.4.0 (from pydantic<3.0.0,>=2.7.4->langchain)\n  Downloading typing_inspection-0.4.0-py3-none-any.whl.metadata (2.6 kB)\nRequirement already satisfied: charset-normalizer<4,>=2 in /databricks/python3/lib/python3.11/site-packages (from requests<3,>=2->langchain) (2.0.4)\nRequirement already satisfied: idna<4,>=2.5 in /databricks/python3/lib/python3.11/site-packages (from requests<3,>=2->langchain) (3.4)\nRequirement already satisfied: urllib3<3,>=1.21.1 in /databricks/python3/lib/python3.11/site-packages (from requests<3,>=2->langchain) (1.26.16)\nRequirement already satisfied: certifi>=2017.4.17 in /databricks/python3/lib/python3.11/site-packages (from requests<3,>=2->langchain) (2023.7.22)\nCollecting greenlet>=1 (from SQLAlchemy<3,>=1.4->langchain)\n  Downloading greenlet-3.2.1-cp311-cp311-manylinux_2_24_x86_64.manylinux_2_28_x86_64.whl.metadata (4.1 kB)\nCollecting blis<1.4.0,>=1.3.0 (from thinc<8.4.0,>=8.3.4->spacy)\n  Downloading blis-1.3.0-cp311-cp311-manylinux_2_17_x86_64.manylinux2014_x86_64.whl.metadata (7.4 kB)\nCollecting confection<1.0.0,>=0.0.1 (from thinc<8.4.0,>=8.3.4->spacy)\n  Downloading confection-0.1.5-py3-none-any.whl.metadata (19 kB)\nCollecting numpy>=1.19.0 (from spacy)\n  Downloading numpy-2.2.5-cp311-cp311-manylinux_2_17_x86_64.manylinux2014_x86_64.whl.metadata (62 kB)\nRequirement already satisfied: click>=8.0.0 in /databricks/python3/lib/python3.11/site-packages (from typer<1.0.0,>=0.3.0->spacy) (8.0.4)\nCollecting shellingham>=1.3.0 (from typer<1.0.0,>=0.3.0->spacy)\n  Downloading shellingham-1.5.4-py2.py3-none-any.whl.metadata (3.5 kB)\nCollecting rich>=10.11.0 (from typer<1.0.0,>=0.3.0->spacy)\n  Downloading rich-14.0.0-py3-none-any.whl.metadata (18 kB)\nCollecting cloudpathlib<1.0.0,>=0.7.0 (from weasel<0.5.0,>=0.1.0->spacy)\n  Downloading cloudpathlib-0.21.0-py3-none-any.whl.metadata (14 kB)\nCollecting smart-open<8.0.0,>=5.2.1 (from weasel<0.5.0,>=0.1.0->spacy)\n  Downloading smart_open-7.1.0-py3-none-any.whl.metadata (24 kB)\nRequirement already satisfied: httplib2<1.0.0,>=0.19.0 in /usr/lib/python3/dist-packages (from google-api-python-client->google-generativeai) (0.20.2)\nCollecting google-auth-httplib2<1.0.0,>=0.2.0 (from google-api-python-client->google-generativeai)\n  Downloading google_auth_httplib2-0.2.0-py2.py3-none-any.whl.metadata (2.2 kB)\nCollecting uritemplate<5,>=3.0.1 (from google-api-python-client->google-generativeai)\n  Downloading uritemplate-4.1.1-py2.py3-none-any.whl.metadata (2.9 kB)\nCollecting MarkupSafe>=2.0 (from jinja2->spacy)\n  Downloading MarkupSafe-3.0.2-cp311-cp311-manylinux_2_17_x86_64.manylinux2014_x86_64.whl.metadata (4.0 kB)\nRequirement already satisfied: grpcio<2.0dev,>=1.33.2 in /databricks/python3/lib/python3.11/site-packages (from google-api-core[grpc]!=2.0.*,!=2.1.*,!=2.10.*,!=2.2.*,!=2.3.*,!=2.4.*,!=2.5.*,!=2.6.*,!=2.7.*,!=2.8.*,!=2.9.*,<3.0.0dev,>=1.34.1->google-ai-generativelanguage==0.6.15->google-generativeai) (1.69.0)\nRequirement already satisfied: grpcio-status<2.0.dev0,>=1.33.2 in /databricks/python3/lib/python3.11/site-packages (from google-api-core[grpc]!=2.0.*,!=2.1.*,!=2.10.*,!=2.2.*,!=2.3.*,!=2.4.*,!=2.5.*,!=2.6.*,!=2.7.*,!=2.8.*,!=2.9.*,<3.0.0dev,>=1.34.1->google-ai-generativelanguage==0.6.15->google-generativeai) (1.69.0)\nRequirement already satisfied: pyparsing!=3.0.0,!=3.0.1,!=3.0.2,!=3.0.3,<4,>=2.4.2 in /databricks/python3/lib/python3.11/site-packages (from httplib2<1.0.0,>=0.19.0->google-api-python-client->google-generativeai) (3.0.9)\nCollecting anyio (from httpx<1,>=0.23.0->langsmith<0.4,>=0.1.17->langchain)\n  Downloading anyio-4.9.0-py3-none-any.whl.metadata (4.7 kB)\nCollecting httpcore==1.* (from httpx<1,>=0.23.0->langsmith<0.4,>=0.1.17->langchain)\n  Downloading httpcore-1.0.9-py3-none-any.whl.metadata (21 kB)\nCollecting h11>=0.16 (from httpcore==1.*->httpx<1,>=0.23.0->langsmith<0.4,>=0.1.17->langchain)\n  Downloading h11-0.16.0-py3-none-any.whl.metadata (8.3 kB)\nCollecting jsonpointer>=1.9 (from jsonpatch<2.0,>=1.33->langchain-core<1.0.0,>=0.3.55->langchain)\n  Downloading jsonpointer-3.0.0-py2.py3-none-any.whl.metadata (2.3 kB)\nCollecting marisa-trie>=1.1.0 (from language-data>=1.2->langcodes<4.0.0,>=3.2.0->spacy)\n  Downloading marisa_trie-1.2.1-cp311-cp311-manylinux_2_17_x86_64.manylinux2014_x86_64.whl.metadata (9.0 kB)\nRequirement already satisfied: pyasn1<0.5.0,>=0.4.6 in /databricks/python3/lib/python3.11/site-packages (from pyasn1-modules>=0.2.1->google-auth>=2.15.0->google-generativeai) (0.4.8)\nCollecting markdown-it-py>=2.2.0 (from rich>=10.11.0->typer<1.0.0,>=0.3.0->spacy)\n  Downloading markdown_it_py-3.0.0-py3-none-any.whl.metadata (6.9 kB)\nRequirement already satisfied: pygments<3.0.0,>=2.13.0 in /databricks/python3/lib/python3.11/site-packages (from rich>=10.11.0->typer<1.0.0,>=0.3.0->spacy) (2.15.1)\nCollecting wrapt (from smart-open<8.0.0,>=5.2.1->weasel<0.5.0,>=0.1.0->spacy)\n  Downloading wrapt-1.17.2-cp311-cp311-manylinux_2_5_x86_64.manylinux1_x86_64.manylinux_2_17_x86_64.manylinux2014_x86_64.whl.metadata (6.4 kB)\nINFO: pip is looking at multiple versions of grpcio-status to determine which version is compatible with other requirements. This could take a while.\nCollecting grpcio-status<2.0.dev0,>=1.33.2 (from google-api-core[grpc]!=2.0.*,!=2.1.*,!=2.10.*,!=2.2.*,!=2.3.*,!=2.4.*,!=2.5.*,!=2.6.*,!=2.7.*,!=2.8.*,!=2.9.*,<3.0.0dev,>=1.34.1->google-ai-generativelanguage==0.6.15->google-generativeai)\n  Downloading grpcio_status-1.71.0-py3-none-any.whl.metadata (1.1 kB)\n  Downloading grpcio_status-1.70.0-py3-none-any.whl.metadata (1.1 kB)\n  Downloading grpcio_status-1.68.1-py3-none-any.whl.metadata (1.1 kB)\n  Downloading grpcio_status-1.68.0-py3-none-any.whl.metadata (1.1 kB)\n  Downloading grpcio_status-1.67.1-py3-none-any.whl.metadata (1.1 kB)\n  Downloading grpcio_status-1.67.0-py3-none-any.whl.metadata (1.1 kB)\n  Downloading grpcio_status-1.66.2-py3-none-any.whl.metadata (1.1 kB)\nINFO: pip is still looking at multiple versions of grpcio-status to determine which version is compatible with other requirements. This could take a while.\n  Downloading grpcio_status-1.66.1-py3-none-any.whl.metadata (1.1 kB)\n  Downloading grpcio_status-1.66.0-py3-none-any.whl.metadata (1.1 kB)\n  Downloading grpcio_status-1.65.5-py3-none-any.whl.metadata (1.1 kB)\n  Downloading grpcio_status-1.65.4-py3-none-any.whl.metadata (1.1 kB)\n  Downloading grpcio_status-1.65.2-py3-none-any.whl.metadata (1.1 kB)\nINFO: This is taking longer than usual. You might need to provide the dependency resolver with stricter constraints to reduce runtime. See https://pip.pypa.io/warnings/backtracking for guidance. If you want to abort this run, press Ctrl + C.\n  Downloading grpcio_status-1.65.1-py3-none-any.whl.metadata (1.1 kB)\n  Downloading grpcio_status-1.64.3-py3-none-any.whl.metadata (1.1 kB)\n  Downloading grpcio_status-1.64.1-py3-none-any.whl.metadata (1.1 kB)\n  Downloading grpcio_status-1.64.0-py3-none-any.whl.metadata (1.1 kB)\n  Downloading grpcio_status-1.63.2-py3-none-any.whl.metadata (1.1 kB)\n  Downloading grpcio_status-1.63.0-py3-none-any.whl.metadata (1.1 kB)\n  Downloading grpcio_status-1.62.3-py3-none-any.whl.metadata (1.3 kB)\nCollecting mdurl~=0.1 (from markdown-it-py>=2.2.0->rich>=10.11.0->typer<1.0.0,>=0.3.0->spacy)\n  Downloading mdurl-0.1.2-py3-none-any.whl.metadata (1.6 kB)\nCollecting sniffio>=1.1 (from anyio->httpx<1,>=0.23.0->langsmith<0.4,>=0.1.17->langchain)\n  Downloading sniffio-1.3.1-py3-none-any.whl.metadata (3.9 kB)\nDownloading langchain-0.3.24-py3-none-any.whl (1.0 MB)\n\u001B[?25l   \u001B[90m━━━━━━━━━━━━━━━━━━━━━━━━━━━━━━━━━━━━━━━━\u001B[0m \u001B[32m0.0/1.0 MB\u001B[0m \u001B[31m?\u001B[0m eta \u001B[36m-:--:--\u001B[0m\n\u001B[2K   \u001B[90m━━━━━━━━━━━━━━━━━━━━━━━━━━━━━━━━━━━━━━━━\u001B[0m \u001B[32m1.0/1.0 MB\u001B[0m \u001B[31m19.8 MB/s\u001B[0m eta \u001B[36m0:00:00\u001B[0m\n\u001B[?25hDownloading langchain_google_genai-2.0.10-py3-none-any.whl (41 kB)\nDownloading google_generativeai-0.8.5-py3-none-any.whl (155 kB)\nDownloading google_ai_generativelanguage-0.6.15-py3-none-any.whl (1.3 MB)\n\u001B[?25l   \u001B[90m━━━━━━━━━━━━━━━━━━━━━━━━━━━━━━━━━━━━━━━━\u001B[0m \u001B[32m0.0/1.3 MB\u001B[0m \u001B[31m?\u001B[0m eta \u001B[36m-:--:--\u001B[0m\n\u001B[2K   \u001B[90m━━━━━━━━━━━━━━━━━━━━━━━━━━━━━━━━━━━━━━━━\u001B[0m \u001B[32m1.3/1.3 MB\u001B[0m \u001B[31m47.5 MB/s\u001B[0m eta \u001B[36m0:00:00\u001B[0m\n\u001B[?25hDownloading spacy-3.8.5-cp311-cp311-manylinux_2_17_x86_64.manylinux2014_x86_64.whl (30.6 MB)\n\u001B[?25l   \u001B[90m━━━━━━━━━━━━━━━━━━━━━━━━━━━━━━━━━━━━━━━━\u001B[0m \u001B[32m0.0/30.6 MB\u001B[0m \u001B[31m?\u001B[0m eta \u001B[36m-:--:--\u001B[0m\n\u001B[2K   \u001B[91m━━\u001B[0m\u001B[91m╸\u001B[0m\u001B[90m━━━━━━━━━━━━━━━━━━━━━━━━━━━━━━━━━━━━━\u001B[0m \u001B[32m2.1/30.6 MB\u001B[0m \u001B[31m190.9 MB/s\u001B[0m eta \u001B[36m0:00:01\u001B[0m\n\u001B[2K   \u001B[91m━━━━━━━━\u001B[0m\u001B[90m╺\u001B[0m\u001B[90m━━━━━━━━━━━━━━━━━━━━━━━━━━━━━━━\u001B[0m \u001B[32m6.3/30.6 MB\u001B[0m \u001B[31m15.2 MB/s\u001B[0m eta \u001B[36m0:00:02\u001B[0m\n\u001B[2K   \u001B[91m━━━━━━━━━━━━━━━━━━━━━━━━━━━\u001B[0m\u001B[90m╺\u001B[0m\u001B[90m━━━━━━━━━━━━\u001B[0m \u001B[32m20.7/30.6 MB\u001B[0m \u001B[31m33.7 MB/s\u001B[0m eta \u001B[36m0:00:01\u001B[0m\n\u001B[2K   \u001B[91m━━━━━━━━━━━━━━━━━━━━━━━━━━━━━━━━━━━━━━━\u001B[0m\u001B[91m╸\u001B[0m \u001B[32m30.4/30.6 MB\u001B[0m \u001B[31m41.7 MB/s\u001B[0m eta \u001B[36m0:00:01\u001B[0m\n\u001B[2K   \u001B[90m━━━━━━━━━━━━━━━━━━━━━━━━━━━━━━━━━━━━━━━━\u001B[0m \u001B[32m30.6/30.6 MB\u001B[0m \u001B[31m36.5 MB/s\u001B[0m eta \u001B[36m0:00:00\u001B[0m\n\u001B[?25hDownloading catalogue-2.0.10-py3-none-any.whl (17 kB)\nDownloading cymem-2.0.11-cp311-cp311-manylinux_2_17_x86_64.manylinux2014_x86_64.whl (218 kB)\nDownloading filetype-1.2.0-py2.py3-none-any.whl (19 kB)\nDownloading langchain_core-0.3.56-py3-none-any.whl (437 kB)\nDownloading langchain_text_splitters-0.3.8-py3-none-any.whl (32 kB)\nDownloading langcodes-3.5.0-py3-none-any.whl (182 kB)\nDownloading langsmith-0.3.34-py3-none-any.whl (358 kB)\nDownloading murmurhash-1.0.12-cp311-cp311-manylinux_2_5_x86_64.manylinux1_x86_64.manylinux_2_17_x86_64.manylinux2014_x86_64.whl (134 kB)\nDownloading preshed-3.0.9-cp311-cp311-manylinux_2_5_x86_64.manylinux1_x86_64.manylinux_2_17_x86_64.manylinux2014_x86_64.whl (157 kB)\nDownloading protobuf-4.25.7-cp37-abi3-manylinux2014_x86_64.whl (294 kB)\nDownloading pydantic-2.11.3-py3-none-any.whl (443 kB)\nDownloading pydantic_core-2.33.1-cp311-cp311-manylinux_2_17_x86_64.manylinux2014_x86_64.whl (2.0 MB)\n\u001B[?25l   \u001B[90m━━━━━━━━━━━━━━━━━━━━━━━━━━━━━━━━━━━━━━━━\u001B[0m \u001B[32m0.0/2.0 MB\u001B[0m \u001B[31m?\u001B[0m eta \u001B[36m-:--:--\u001B[0m\n\u001B[2K   \u001B[90m━━━━━━━━━━━━━━━━━━━━━━━━━━━━━━━━━━━━━━━━\u001B[0m \u001B[32m2.0/2.0 MB\u001B[0m \u001B[31m93.5 MB/s\u001B[0m eta \u001B[36m0:00:00\u001B[0m\n\u001B[?25hDownloading spacy_legacy-3.0.12-py2.py3-none-any.whl (29 kB)\nDownloading spacy_loggers-1.0.5-py3-none-any.whl (22 kB)\nDownloading sqlalchemy-2.0.40-cp311-cp311-manylinux_2_17_x86_64.manylinux2014_x86_64.whl (3.2 MB)\n\u001B[?25l   \u001B[90m━━━━━━━━━━━━━━━━━━━━━━━━━━━━━━━━━━━━━━━━\u001B[0m \u001B[32m0.0/3.2 MB\u001B[0m \u001B[31m?\u001B[0m eta \u001B[36m-:--:--\u001B[0m\n\u001B[2K   \u001B[90m━━━━━━━━━━━━━━━━━━━━━━━━━━━━━━━━━━━━━━━━\u001B[0m \u001B[32m3.2/3.2 MB\u001B[0m \u001B[31m62.8 MB/s\u001B[0m eta \u001B[36m0:00:00\u001B[0m\n\u001B[?25hDownloading srsly-2.5.1-cp311-cp311-manylinux_2_17_x86_64.manylinux2014_x86_64.whl (1.1 MB)\n\u001B[?25l   \u001B[90m━━━━━━━━━━━━━━━━━━━━━━━━━━━━━━━━━━━━━━━━\u001B[0m \u001B[32m0.0/1.1 MB\u001B[0m \u001B[31m?\u001B[0m eta \u001B[36m-:--:--\u001B[0m\n\u001B[2K   \u001B[90m━━━━━━━━━━━━━━━━━━━━━━━━━━━━━━━━━━━━━━━━\u001B[0m \u001B[32m1.1/1.1 MB\u001B[0m \u001B[31m68.4 MB/s\u001B[0m eta \u001B[36m0:00:00\u001B[0m\n\u001B[?25hDownloading thinc-8.3.6-cp311-cp311-manylinux_2_17_x86_64.manylinux2014_x86_64.whl (4.5 MB)\n\u001B[?25l   \u001B[90m━━━━━━━━━━━━━━━━━━━━━━━━━━━━━━━━━━━━━━━━\u001B[0m \u001B[32m0.0/4.5 MB\u001B[0m \u001B[31m?\u001B[0m eta \u001B[36m-:--:--\u001B[0m\n\u001B[2K   \u001B[90m━━━━━━━━━━━━━━━━━━━━━━━━━━━━━━━━━━━━━━━━\u001B[0m \u001B[32m4.5/4.5 MB\u001B[0m \u001B[31m130.2 MB/s\u001B[0m eta \u001B[36m0:00:00\u001B[0m\n\u001B[?25hDownloading numpy-2.2.5-cp311-cp311-manylinux_2_17_x86_64.manylinux2014_x86_64.whl (16.4 MB)\n\u001B[?25l   \u001B[90m━━━━━━━━━━━━━━━━━━━━━━━━━━━━━━━━━━━━━━━━\u001B[0m \u001B[32m0.0/16.4 MB\u001B[0m \u001B[31m?\u001B[0m eta \u001B[36m-:--:--\u001B[0m\n\u001B[2K   \u001B[90m━━━━━━━━━━━━━━━━━━━━━━━━━━━━━━━━━━━━━━━━\u001B[0m \u001B[32m16.4/16.4 MB\u001B[0m \u001B[31m140.8 MB/s\u001B[0m eta \u001B[36m0:00:00\u001B[0m\n\u001B[?25hDownloading tqdm-4.67.1-py3-none-any.whl (78 kB)\nDownloading typer-0.15.2-py3-none-any.whl (45 kB)\nDownloading typing_extensions-4.13.2-py3-none-any.whl (45 kB)\nDownloading wasabi-1.1.3-py3-none-any.whl (27 kB)\nDownloading weasel-0.4.1-py3-none-any.whl (50 kB)\nDownloading google_api_python_client-2.168.0-py3-none-any.whl (13.3 MB)\n\u001B[?25l   \u001B[90m━━━━━━━━━━━━━━━━━━━━━━━━━━━━━━━━━━━━━━━━\u001B[0m \u001B[32m0.0/13.3 MB\u001B[0m \u001B[31m?\u001B[0m eta \u001B[36m-:--:--\u001B[0m\n\u001B[2K   \u001B[90m━━━━━━━━━━━━━━━━━━━━━━━━━━━━━━━━━━━━━━━━\u001B[0m \u001B[32m13.3/13.3 MB\u001B[0m \u001B[31m79.1 MB/s\u001B[0m eta \u001B[36m0:00:00\u001B[0m\n\u001B[?25hDownloading jinja2-3.1.6-py3-none-any.whl (134 kB)\nDownloading annotated_types-0.7.0-py3-none-any.whl (13 kB)\nDownloading blis-1.3.0-cp311-cp311-manylinux_2_17_x86_64.manylinux2014_x86_64.whl (11.7 MB)\n\u001B[?25l   \u001B[90m━━━━━━━━━━━━━━━━━━━━━━━━━━━━━━━━━━━━━━━━\u001B[0m \u001B[32m0.0/11.7 MB\u001B[0m \u001B[31m?\u001B[0m eta \u001B[36m-:--:--\u001B[0m\n\u001B[2K   \u001B[90m━━━━━━━━━━━━━━━━━━━━━━━━━━━━━━━━━━━━━━━━\u001B[0m \u001B[32m11.7/11.7 MB\u001B[0m \u001B[31m111.2 MB/s\u001B[0m eta \u001B[36m0:00:00\u001B[0m\n\u001B[?25hDownloading cloudpathlib-0.21.0-py3-none-any.whl (52 kB)\nDownloading confection-0.1.5-py3-none-any.whl (35 kB)\nDownloading google_auth_httplib2-0.2.0-py2.py3-none-any.whl (9.3 kB)\nDownloading greenlet-3.2.1-cp311-cp311-manylinux_2_24_x86_64.manylinux_2_28_x86_64.whl (583 kB)\n\u001B[?25l   \u001B[90m━━━━━━━━━━━━━━━━━━━━━━━━━━━━━━━━━━━━━━━━\u001B[0m \u001B[32m0.0/583.9 kB\u001B[0m \u001B[31m?\u001B[0m eta \u001B[36m-:--:--\u001B[0m\n\u001B[2K   \u001B[90m━━━━━━━━━━━━━━━━━━━━━━━━━━━━━━━━━━━━━━━━\u001B[0m \u001B[32m583.9/583.9 kB\u001B[0m \u001B[31m47.4 MB/s\u001B[0m eta \u001B[36m0:00:00\u001B[0m\n\u001B[?25hDownloading httpx-0.28.1-py3-none-any.whl (73 kB)\nDownloading httpcore-1.0.9-py3-none-any.whl (78 kB)\nDownloading jsonpatch-1.33-py2.py3-none-any.whl (12 kB)\nDownloading language_data-1.3.0-py3-none-any.whl (5.4 MB)\n\u001B[?25l   \u001B[90m━━━━━━━━━━━━━━━━━━━━━━━━━━━━━━━━━━━━━━━━\u001B[0m \u001B[32m0.0/5.4 MB\u001B[0m \u001B[31m?\u001B[0m eta \u001B[36m-:--:--\u001B[0m\n\u001B[2K   \u001B[90m━━━━━━━━━━━━━━━━━━━━━━━━━━━━━━━━━━━━━━━━\u001B[0m \u001B[32m5.4/5.4 MB\u001B[0m \u001B[31m70.1 MB/s\u001B[0m eta \u001B[36m0:00:00\u001B[0m\n\u001B[?25hDownloading MarkupSafe-3.0.2-cp311-cp311-manylinux_2_17_x86_64.manylinux2014_x86_64.whl (23 kB)\nDownloading orjson-3.10.16-cp311-cp311-manylinux_2_17_x86_64.manylinux2014_x86_64.whl (132 kB)\nDownloading requests_toolbelt-1.0.0-py2.py3-none-any.whl (54 kB)\nDownloading rich-14.0.0-py3-none-any.whl (243 kB)\nDownloading shellingham-1.5.4-py2.py3-none-any.whl (9.8 kB)\nDownloading smart_open-7.1.0-py3-none-any.whl (61 kB)\nDownloading typing_inspection-0.4.0-py3-none-any.whl (14 kB)\nDownloading uritemplate-4.1.1-py2.py3-none-any.whl (10 kB)\nDownloading grpcio_status-1.62.3-py3-none-any.whl (14 kB)\nDownloading jsonpointer-3.0.0-py2.py3-none-any.whl (7.6 kB)\nDownloading marisa_trie-1.2.1-cp311-cp311-manylinux_2_17_x86_64.manylinux2014_x86_64.whl (1.4 MB)\n\u001B[?25l   \u001B[90m━━━━━━━━━━━━━━━━━━━━━━━━━━━━━━━━━━━━━━━━\u001B[0m \u001B[32m0.0/1.4 MB\u001B[0m \u001B[31m?\u001B[0m eta \u001B[36m-:--:--\u001B[0m\n\u001B[2K   \u001B[90m━━━━━━━━━━━━━━━━━━━━━━━━━━━━━━━━━━━━━━━━\u001B[0m \u001B[32m1.4/1.4 MB\u001B[0m \u001B[31m67.1 MB/s\u001B[0m eta \u001B[36m0:00:00\u001B[0m\n\u001B[?25hDownloading markdown_it_py-3.0.0-py3-none-any.whl (87 kB)\nDownloading anyio-4.9.0-py3-none-any.whl (100 kB)\nDownloading wrapt-1.17.2-cp311-cp311-manylinux_2_5_x86_64.manylinux1_x86_64.manylinux_2_17_x86_64.manylinux2014_x86_64.whl (83 kB)\nDownloading h11-0.16.0-py3-none-any.whl (37 kB)\nDownloading mdurl-0.1.2-py3-none-any.whl (10.0 kB)\nDownloading sniffio-1.3.1-py3-none-any.whl (10 kB)\nInstalling collected packages: filetype, cymem, wrapt, wasabi, uritemplate, typing-extensions, tqdm, spacy-loggers, spacy-legacy, sniffio, shellingham, protobuf, orjson, numpy, murmurhash, mdurl, MarkupSafe, marisa-trie, jsonpointer, h11, greenlet, cloudpathlib, catalogue, annotated-types, typing-inspection, srsly, SQLAlchemy, smart-open, requests-toolbelt, pydantic-core, preshed, markdown-it-py, language-data, jsonpatch, jinja2, httpcore, blis, anyio, rich, pydantic, langcodes, httpx, grpcio-status, google-auth-httplib2, typer, langsmith, google-api-python-client, confection, weasel, thinc, langchain-core, google-ai-generativelanguage, spacy, langchain-text-splitters, google-generativeai, langchain-google-genai, langchain\n  Attempting uninstall: typing-extensions\n    Found existing installation: typing_extensions 4.10.0\n    Not uninstalling typing-extensions at /databricks/python3/lib/python3.11/site-packages, outside environment /local_disk0/.ephemeral_nfs/envs/pythonEnv-9df0c847-3437-4bcb-830a-79899e838cd2\n    Can't uninstall 'typing_extensions'. No files were found to uninstall.\n  Attempting uninstall: protobuf\n    Found existing installation: protobuf 5.29.3\n    Not uninstalling protobuf at /databricks/python3/lib/python3.11/site-packages, outside environment /local_disk0/.ephemeral_nfs/envs/pythonEnv-9df0c847-3437-4bcb-830a-79899e838cd2\n    Can't uninstall 'protobuf'. No files were found to uninstall.\n  Attempting uninstall: numpy\n    Found existing installation: numpy 1.23.5\n    Not uninstalling numpy at /databricks/python3/lib/python3.11/site-packages, outside environment /local_disk0/.ephemeral_nfs/envs/pythonEnv-9df0c847-3437-4bcb-830a-79899e838cd2\n    Can't uninstall 'numpy'. No files were found to uninstall.\n  Attempting uninstall: pydantic\n    Found existing installation: pydantic 1.10.6\n    Not uninstalling pydantic at /databricks/python3/lib/python3.11/site-packages, outside environment /local_disk0/.ephemeral_nfs/envs/pythonEnv-9df0c847-3437-4bcb-830a-79899e838cd2\n    Can't uninstall 'pydantic'. No files were found to uninstall.\n  Attempting uninstall: grpcio-status\n    Found existing installation: grpcio-status 1.69.0\n    Not uninstalling grpcio-status at /databricks/python3/lib/python3.11/site-packages, outside environment /local_disk0/.ephemeral_nfs/envs/pythonEnv-9df0c847-3437-4bcb-830a-79899e838cd2\n    Can't uninstall 'grpcio-status'. No files were found to uninstall.\n\u001B[31mERROR: pip's dependency resolver does not currently take into account all the packages that are installed. This behaviour is the source of the following dependency conflicts.\ndatabricks-connect 15.4.5 requires numpy<2,>=1.15, but you have numpy 2.2.5 which is incompatible.\nscipy 1.11.1 requires numpy<1.28.0,>=1.21.6, but you have numpy 2.2.5 which is incompatible.\u001B[0m\u001B[31m\n\u001B[0mSuccessfully installed MarkupSafe-3.0.2 SQLAlchemy-2.0.40 annotated-types-0.7.0 anyio-4.9.0 blis-1.3.0 catalogue-2.0.10 cloudpathlib-0.21.0 confection-0.1.5 cymem-2.0.11 filetype-1.2.0 google-ai-generativelanguage-0.6.15 google-api-python-client-2.168.0 google-auth-httplib2-0.2.0 google-generativeai-0.8.5 greenlet-3.2.1 grpcio-status-1.62.3 h11-0.16.0 httpcore-1.0.9 httpx-0.28.1 jinja2-3.1.6 jsonpatch-1.33 jsonpointer-3.0.0 langchain-0.3.24 langchain-core-0.3.56 langchain-google-genai-2.0.10 langchain-text-splitters-0.3.8 langcodes-3.5.0 langsmith-0.3.34 language-data-1.3.0 marisa-trie-1.2.1 markdown-it-py-3.0.0 mdurl-0.1.2 murmurhash-1.0.12 numpy-2.2.5 orjson-3.10.16 preshed-3.0.9 protobuf-4.25.7 pydantic-2.11.3 pydantic-core-2.33.1 requests-toolbelt-1.0.0 rich-14.0.0 shellingham-1.5.4 smart-open-7.1.0 sniffio-1.3.1 spacy-3.8.5 spacy-legacy-3.0.12 spacy-loggers-1.0.5 srsly-2.5.1 thinc-8.3.6 tqdm-4.67.1 typer-0.15.2 typing-extensions-4.13.2 typing-inspection-0.4.0 uritemplate-4.1.1 wasabi-1.1.3 weasel-0.4.1 wrapt-1.17.2\n\u001B[43mNote: you may need to restart the kernel using %restart_python or dbutils.library.restartPython() to use updated packages.\u001B[0m\n"
     ]
    }
   ],
   "source": [
    "%pip install -U langchain langchain-google-genai google-generativeai spacy"
   ]
  },
  {
   "cell_type": "code",
   "execution_count": 0,
   "metadata": {
    "application/vnd.databricks.v1+cell": {
     "cellMetadata": {
      "byteLimit": 2048000,
      "rowLimit": 10000
     },
     "inputWidgets": {},
     "nuid": "44d4fa14-b06d-4d1b-bb0d-d87a0927faa4",
     "showTitle": false,
     "tableResultSettingsMap": {},
     "title": ""
    }
   },
   "outputs": [],
   "source": [
    "dbutils.library.restartPython()"
   ]
  },
  {
   "cell_type": "code",
   "execution_count": 0,
   "metadata": {
    "application/vnd.databricks.v1+cell": {
     "cellMetadata": {
      "byteLimit": 2048000,
      "rowLimit": 10000
     },
     "inputWidgets": {},
     "nuid": "a06d3577-ea37-4f35-b8e6-ce006b2dea5d",
     "showTitle": false,
     "tableResultSettingsMap": {},
     "title": ""
    }
   },
   "outputs": [],
   "source": [
    "import os\n",
    "import spacy\n",
    "from langchain_google_genai import ChatGoogleGenerativeAI, GoogleGenerativeAIEmbeddings\n",
    "from langchain_core.prompts import ChatPromptTemplate"
   ]
  },
  {
   "cell_type": "code",
   "execution_count": 0,
   "metadata": {
    "application/vnd.databricks.v1+cell": {
     "cellMetadata": {
      "byteLimit": 2048000,
      "rowLimit": 10000
     },
     "inputWidgets": {},
     "nuid": "96181f17-5d57-421a-b460-4c436706a773",
     "showTitle": false,
     "tableResultSettingsMap": {},
     "title": ""
    }
   },
   "outputs": [],
   "source": [
    "os.environ[\"GOOGLE_API_KEY\"] = \"hidden-api-key\""
   ]
  },
  {
   "cell_type": "code",
   "execution_count": 0,
   "metadata": {
    "application/vnd.databricks.v1+cell": {
     "cellMetadata": {
      "byteLimit": 2048000,
      "rowLimit": 10000
     },
     "inputWidgets": {},
     "nuid": "66523114-4a7a-46d7-b6a1-b84cb80859cb",
     "showTitle": false,
     "tableResultSettingsMap": {},
     "title": ""
    }
   },
   "outputs": [],
   "source": [
    "nlp = spacy.load(\"en_core_web_sm\")"
   ]
  },
  {
   "cell_type": "code",
   "execution_count": 0,
   "metadata": {
    "application/vnd.databricks.v1+cell": {
     "cellMetadata": {
      "byteLimit": 2048000,
      "rowLimit": 10000
     },
     "inputWidgets": {},
     "nuid": "0e34abef-5c78-42b5-9a27-7cb326fe61b1",
     "showTitle": false,
     "tableResultSettingsMap": {},
     "title": ""
    }
   },
   "outputs": [],
   "source": [
    "llm = ChatGoogleGenerativeAI(\n",
    "    model=\"models/gemini-1.5-pro-latest\",\n",
    "    temperature=0.7\n",
    ")\n",
    "\n",
    "embedding_model = GoogleGenerativeAIEmbeddings(\n",
    "    model=\"models/embedding-001\"\n",
    ")"
   ]
  },
  {
   "cell_type": "code",
   "execution_count": 0,
   "metadata": {
    "application/vnd.databricks.v1+cell": {
     "cellMetadata": {
      "byteLimit": 2048000,
      "rowLimit": 10000
     },
     "inputWidgets": {},
     "nuid": "19551bfc-4d81-4dec-bb9a-66b42ccfa416",
     "showTitle": false,
     "tableResultSettingsMap": {},
     "title": ""
    }
   },
   "outputs": [
    {
     "output_type": "display_data",
     "data": {
      "text/plain": [
       "Enter a prompt for the story:  Leaves falling from a tree"
      ]
     },
     "metadata": {},
     "output_type": "display_data"
    }
   ],
   "source": [
    "user_prompt = input(\"Enter a prompt for the story: \")"
   ]
  },
  {
   "cell_type": "code",
   "execution_count": 0,
   "metadata": {
    "application/vnd.databricks.v1+cell": {
     "cellMetadata": {
      "byteLimit": 2048000,
      "rowLimit": 10000
     },
     "inputWidgets": {},
     "nuid": "275a6eaf-8529-41b2-a2d9-46f392dc9522",
     "showTitle": false,
     "tableResultSettingsMap": {},
     "title": ""
    }
   },
   "outputs": [
    {
     "output_type": "stream",
     "name": "stdout",
     "output_type": "stream",
     "text": [
      "📘 Generated Story:\n The old oak sighed, a rustle that echoed through the crisp autumn air. One by one, its leaves surrendered to the pull of gravity, a vibrant rain of crimson and gold. They danced on the wind, twirling in intricate patterns before settling on the ground below. A young girl, bundled in a scarlet coat, skipped through the fallen leaves, her laughter mingling with the whispering breeze.  The oak watched, a silent guardian, as its leaves formed a vibrant carpet, a farewell kiss to the warm embrace of summer. Winter was coming, but the memory of sun-drenched days lingered in the rustling leaves.\n"
     ]
    }
   ],
   "source": [
    "story_prompt = ChatPromptTemplate.from_template(\n",
    "    \"Write a short story of around 100 words about: {topic}\"\n",
    ")\n",
    "\n",
    "story_chain = story_prompt | llm\n",
    "\n",
    "story_output = story_chain.invoke({\"topic\": user_prompt}).content.strip()\n",
    "print(\"📘 Generated Story:\\n\", story_output)"
   ]
  },
  {
   "cell_type": "code",
   "execution_count": 0,
   "metadata": {
    "application/vnd.databricks.v1+cell": {
     "cellMetadata": {
      "byteLimit": 2048000,
      "rowLimit": 10000
     },
     "inputWidgets": {},
     "nuid": "12d80b5d-f7e8-4c70-b903-6843d33385bc",
     "showTitle": false,
     "tableResultSettingsMap": {},
     "title": ""
    }
   },
   "outputs": [
    {
     "output_type": "stream",
     "name": "stdout",
     "output_type": "stream",
     "text": [
      "📏 Embedding vector length: 768\n"
     ]
    }
   ],
   "source": [
    "# Creating Embedding vector\n",
    "story_vector = embedding_model.embed_query(story_output)\n",
    "print(f\"📏 Embedding vector length: {len(story_vector)}\")"
   ]
  },
  {
   "cell_type": "code",
   "execution_count": 0,
   "metadata": {
    "application/vnd.databricks.v1+cell": {
     "cellMetadata": {
      "byteLimit": 2048000,
      "rowLimit": 10000
     },
     "inputWidgets": {},
     "nuid": "bd6ea8d3-3e5f-43f2-819a-9f6f562120fc",
     "showTitle": false,
     "tableResultSettingsMap": {},
     "title": ""
    }
   },
   "outputs": [
    {
     "output_type": "execute_result",
     "data": {
      "text/plain": [
       "[0.042352162301540375,\n",
       " -0.016837628558278084,\n",
       " -0.006762680597603321,\n",
       " -0.0008494186331517994,\n",
       " 0.04537295177578926,\n",
       " -0.025933727622032166,\n",
       " 0.01770648919045925,\n",
       " -0.007108961697667837,\n",
       " 0.0299057774245739,\n",
       " 0.012149212881922722,\n",
       " 0.030649475753307343,\n",
       " -0.020714670419692993,\n",
       " 0.021305210888385773,\n",
       " 0.01094827800989151,\n",
       " -0.01462928019464016,\n",
       " 0.01431321632117033,\n",
       " 0.011282960884273052,\n",
       " 0.032648324966430664,\n",
       " -0.0026486238930374384,\n",
       " -0.021903103217482567,\n",
       " 0.01635872758924961,\n",
       " -0.003726525465026498,\n",
       " -0.013766705058515072,\n",
       " -0.01073848269879818,\n",
       " -0.007919500581920147,\n",
       " -0.021765412762761116,\n",
       " -0.037615951150655746,\n",
       " -0.060638535767793655,\n",
       " 0.013069331645965576,\n",
       " 0.0183574091643095,\n",
       " -0.07480280846357346,\n",
       " -0.006447829771786928,\n",
       " -0.07401974499225616,\n",
       " -0.011138825677335262,\n",
       " 0.0019617846701294184,\n",
       " -0.02617134526371956,\n",
       " 0.049134593456983566,\n",
       " 0.031243296340107918,\n",
       " 0.025390325114130974,\n",
       " 0.03443244472146034,\n",
       " 0.03238028287887573,\n",
       " -0.03436960652470589,\n",
       " -0.03145363926887512,\n",
       " -0.020895395427942276,\n",
       " 0.025481631979346275,\n",
       " -0.102902352809906,\n",
       " -0.02989651821553707,\n",
       " -0.007539400830864906,\n",
       " -0.03043963573873043,\n",
       " -0.06639670580625534,\n",
       " 0.010077363811433315,\n",
       " 0.05473776534199715,\n",
       " 0.08036002516746521,\n",
       " -0.013816527090966702,\n",
       " 0.021467307582497597,\n",
       " -0.032722972333431244,\n",
       " 0.046806156635284424,\n",
       " 0.03839319571852684,\n",
       " -0.0161686223000288,\n",
       " 0.022059358656406403,\n",
       " -0.015399317257106304,\n",
       " 0.1153811365365982,\n",
       " -0.004619359504431486,\n",
       " 0.0895240306854248,\n",
       " 0.021187560632824898,\n",
       " -0.02104632742702961,\n",
       " -0.05254250392317772,\n",
       " -0.003564639948308468,\n",
       " 0.038912929594516754,\n",
       " -0.02763226255774498,\n",
       " -0.0041455780155956745,\n",
       " -0.03074359893798828,\n",
       " 0.041935890913009644,\n",
       " -0.008276760578155518,\n",
       " -0.049861516803503036,\n",
       " -0.058829739689826965,\n",
       " -0.035862576216459274,\n",
       " 0.05212131515145302,\n",
       " 0.07035919278860092,\n",
       " 0.00972310546785593,\n",
       " -0.0203852541744709,\n",
       " -0.05825406312942505,\n",
       " 0.03712024539709091,\n",
       " -0.033463094383478165,\n",
       " -0.04850350320339203,\n",
       " 0.029617376625537872,\n",
       " -0.037024736404418945,\n",
       " 0.028431640937924385,\n",
       " -0.023469459265470505,\n",
       " 0.023110561072826385,\n",
       " -0.014422773383557796,\n",
       " -0.0033999797888100147,\n",
       " 0.025093017145991325,\n",
       " -0.07264615595340729,\n",
       " 0.03456858918070793,\n",
       " 0.048096150159835815,\n",
       " -0.032267630100250244,\n",
       " 0.03342149034142494,\n",
       " 0.004127171356230974,\n",
       " -0.014504042454063892,\n",
       " 0.019884523004293442,\n",
       " 0.012068976648151875,\n",
       " 0.015838801860809326,\n",
       " -0.0018928569043055177,\n",
       " 0.0228350181132555,\n",
       " 0.027956457808613777,\n",
       " -0.032621994614601135,\n",
       " 0.041140470653772354,\n",
       " 0.023656902834773064,\n",
       " 0.037279702723026276,\n",
       " -0.046128664165735245,\n",
       " -0.01752910390496254,\n",
       " -0.005761913489550352,\n",
       " -0.05551234260201454,\n",
       " -0.0048974063247442245,\n",
       " 0.018251242116093636,\n",
       " 0.011087104678153992,\n",
       " 0.02204102650284767,\n",
       " 0.035122811794281006,\n",
       " 0.03169870749115944,\n",
       " 0.018521960824728012,\n",
       " 0.0006495544803328812,\n",
       " 0.03973812237381935,\n",
       " 0.02549954503774643,\n",
       " -0.010352673940360546,\n",
       " 0.02051299437880516,\n",
       " -0.013662178069353104,\n",
       " 0.0015717836795374751,\n",
       " 0.04792249947786331,\n",
       " 0.012371255084872246,\n",
       " -0.045784469693899155,\n",
       " -0.05578812211751938,\n",
       " 0.06260526925325394,\n",
       " 0.019250253215432167,\n",
       " 0.01688554883003235,\n",
       " 0.06402269005775452,\n",
       " 0.022999271750450134,\n",
       " 0.010869970545172691,\n",
       " 0.02460160292685032,\n",
       " -0.006032573990523815,\n",
       " 0.009276583790779114,\n",
       " -0.012583511881530285,\n",
       " -0.02157801017165184,\n",
       " 0.0818919837474823,\n",
       " -0.01611860655248165,\n",
       " 0.03239993378520012,\n",
       " 0.005106350872665644,\n",
       " -0.0008586592157371342,\n",
       " 0.026027444750070572,\n",
       " -0.048325445502996445,\n",
       " 0.030855577439069748,\n",
       " 0.026111841201782227,\n",
       " -0.04556116834282875,\n",
       " 0.018862038850784302,\n",
       " 0.04190870746970177,\n",
       " -0.004075818695127964,\n",
       " -0.020545464009046555,\n",
       " 0.008811869658529758,\n",
       " -0.0023766078520566225,\n",
       " -0.014167824760079384,\n",
       " 0.03485226631164551,\n",
       " 0.04101622849702835,\n",
       " 0.00886509008705616,\n",
       " 0.02866370975971222,\n",
       " -0.021570608019828796,\n",
       " 0.03503209725022316,\n",
       " 0.0440017394721508,\n",
       " 0.005066957790404558,\n",
       " -0.005095974542200565,\n",
       " 0.02494136616587639,\n",
       " 0.025667978450655937,\n",
       " 0.04265068843960762,\n",
       " -0.015427280217409134,\n",
       " -0.015500960871577263,\n",
       " -0.03197605535387993,\n",
       " -0.0569411963224411,\n",
       " -0.023738786578178406,\n",
       " 0.0026398678310215473,\n",
       " -0.04383859410881996,\n",
       " 0.005303559359163046,\n",
       " -0.0250361580401659,\n",
       " 0.01930318959057331,\n",
       " 0.004378001671284437,\n",
       " 0.03777361288666725,\n",
       " 0.033829767256975174,\n",
       " -0.012025946751236916,\n",
       " 0.0563768707215786,\n",
       " -0.027845129370689392,\n",
       " -0.0284659992903471,\n",
       " -0.012695986777544022,\n",
       " -0.0042712995782494545,\n",
       " -0.01560282427817583,\n",
       " -0.007694387808442116,\n",
       " 0.014311948791146278,\n",
       " -0.012490957975387573,\n",
       " 0.05820772051811218,\n",
       " 0.029039433225989342,\n",
       " 0.008795483037829399,\n",
       " -0.03802918270230293,\n",
       " -0.06111348792910576,\n",
       " -0.004575501661747694,\n",
       " 0.09104467928409576,\n",
       " -0.013679027557373047,\n",
       " -0.00034973633592016995,\n",
       " 0.0738321840763092,\n",
       " -0.02798115834593773,\n",
       " 0.07808542251586914,\n",
       " -0.050896454602479935,\n",
       " -0.059208303689956665,\n",
       " 0.013158578425645828,\n",
       " -0.0745435580611229,\n",
       " -0.005297510884702206,\n",
       " -0.05682358890771866,\n",
       " 0.006941614206880331,\n",
       " 0.01796022057533264,\n",
       " -0.005352983716875315,\n",
       " -0.027202662080526352,\n",
       " 0.06261124461889267,\n",
       " -0.019350744783878326,\n",
       " -0.04799653962254524,\n",
       " -0.0043945410288870335,\n",
       " 0.01608920283615589,\n",
       " -0.051549166440963745,\n",
       " 0.05662781372666359,\n",
       " 0.020382266491651535,\n",
       " 0.0218947920948267,\n",
       " -0.013379101641476154,\n",
       " 0.01752777397632599,\n",
       " 0.046665750443935394,\n",
       " -0.08792079240083694,\n",
       " 0.013033030554652214,\n",
       " 0.00040641482337377965,\n",
       " 0.004000060725957155,\n",
       " -0.006906701251864433,\n",
       " 0.049701884388923645,\n",
       " -0.017102712765336037,\n",
       " 0.05145341157913208,\n",
       " 0.03293916955590248,\n",
       " -0.013102113269269466,\n",
       " -0.01515599898993969,\n",
       " -0.0327480211853981,\n",
       " 0.014957793056964874,\n",
       " 0.013777120970189571,\n",
       " -0.015256139449775219,\n",
       " -0.07213585078716278,\n",
       " -0.05789549648761749,\n",
       " -0.021692223846912384,\n",
       " 0.010052099823951721,\n",
       " -0.0005707919481210411,\n",
       " 0.039226844906806946,\n",
       " 0.05364380031824112,\n",
       " -0.04771016538143158,\n",
       " 0.0005998364649713039,\n",
       " -0.022180277854204178,\n",
       " -0.05602455511689186,\n",
       " 0.031102318316698074,\n",
       " -0.0638498067855835,\n",
       " -0.04379063472151756,\n",
       " -0.016831962391734123,\n",
       " 0.004489390179514885,\n",
       " 0.01937812753021717,\n",
       " -0.029680881649255753,\n",
       " 0.05679374188184738,\n",
       " 0.023508230224251747,\n",
       " -0.018529217690229416,\n",
       " -0.015777098014950752,\n",
       " 0.006966690067201853,\n",
       " -0.005245772656053305,\n",
       " -0.025943230837583542,\n",
       " 0.023737238720059395,\n",
       " -0.01376560889184475,\n",
       " -0.0427367240190506,\n",
       " 0.051256414502859116,\n",
       " -0.05101499333977699,\n",
       " -0.03408953547477722,\n",
       " -0.0030488641932606697,\n",
       " -0.05331582576036453,\n",
       " 0.020836926996707916,\n",
       " 0.013781769201159477,\n",
       " -0.06537116318941116,\n",
       " 0.01681603491306305,\n",
       " 0.03219243139028549,\n",
       " 0.051325730979442596,\n",
       " -0.011174323037266731,\n",
       " -0.04076316952705383,\n",
       " -0.02551327645778656,\n",
       " -0.060973189771175385,\n",
       " -0.05094728246331215,\n",
       " 0.013330156914889812,\n",
       " -0.022112946957349777,\n",
       " 0.020067833364009857,\n",
       " -0.005799305159598589,\n",
       " -0.03947743400931358,\n",
       " -0.0798364132642746,\n",
       " -0.04286068677902222,\n",
       " -0.032517172396183014,\n",
       " 0.0007515490869991481,\n",
       " 0.03677820786833763,\n",
       " 0.02509077824652195,\n",
       " 0.0042119561694562435,\n",
       " -0.03639878332614899,\n",
       " -0.05832606926560402,\n",
       " -0.040944844484329224,\n",
       " -0.10256870090961456,\n",
       " -0.030237987637519836,\n",
       " 0.0470038577914238,\n",
       " -0.0773787647485733,\n",
       " 0.008528041653335094,\n",
       " 0.04285898804664612,\n",
       " 0.0053175329230725765,\n",
       " 0.06302081048488617,\n",
       " -0.008738918229937553,\n",
       " -0.011547555215656757,\n",
       " 0.01577947288751602,\n",
       " 0.057825472205877304,\n",
       " 0.004898140672594309,\n",
       " -0.07265326380729675,\n",
       " 0.017117056995630264,\n",
       " -0.033839479088783264,\n",
       " 0.01361042819917202,\n",
       " 0.016992731019854546,\n",
       " 0.058139901608228683,\n",
       " 0.029756277799606323,\n",
       " -0.006238228175789118,\n",
       " 0.03289863094687462,\n",
       " 0.030176730826497078,\n",
       " -0.041631344705820084,\n",
       " 0.09325818717479706,\n",
       " -0.027222860604524612,\n",
       " 0.016430115327239037,\n",
       " -0.03495388478040695,\n",
       " -0.04431445151567459,\n",
       " -0.0258856900036335,\n",
       " -0.002814254257827997,\n",
       " 0.0077003370970487595,\n",
       " 0.011615543626248837,\n",
       " -0.03476729243993759,\n",
       " 0.005101067945361137,\n",
       " -0.08856981992721558,\n",
       " 0.012524151243269444,\n",
       " 0.02354605868458748,\n",
       " 0.02128014899790287,\n",
       " -0.01816924288868904,\n",
       " -0.04953908547759056,\n",
       " 0.010469017550349236,\n",
       " -0.04299969598650932,\n",
       " 0.008778063580393791,\n",
       " 0.04304829612374306,\n",
       " 0.03812054917216301,\n",
       " 0.017194820567965508,\n",
       " 0.026282789185643196,\n",
       " 0.07965701818466187,\n",
       " -0.03512627258896828,\n",
       " -0.00012391494237817824,\n",
       " -0.002133927308022976,\n",
       " -0.026096682995557785,\n",
       " 0.061659958213567734,\n",
       " -0.048692554235458374,\n",
       " 0.03261135518550873,\n",
       " -0.033157333731651306,\n",
       " -0.05376048758625984,\n",
       " 0.043063849210739136,\n",
       " 0.03263478726148605,\n",
       " 0.04081939533352852,\n",
       " -0.027871429920196533,\n",
       " -0.007467375136911869,\n",
       " 0.02419283799827099,\n",
       " 0.027964262291789055,\n",
       " 0.007989877834916115,\n",
       " 0.04699264466762543,\n",
       " 0.002424653386697173,\n",
       " 0.05211731791496277,\n",
       " -0.012588818557560444,\n",
       " 0.0008674768614582717,\n",
       " -0.019584331661462784,\n",
       " -0.008466081693768501,\n",
       " -0.04875607416033745,\n",
       " -0.029019968584179878,\n",
       " 0.011410818435251713,\n",
       " 0.01818079687654972,\n",
       " -0.030427366495132446,\n",
       " -0.023947039619088173,\n",
       " 0.05515516921877861,\n",
       " 0.01682550460100174,\n",
       " -0.0037922412157058716,\n",
       " 0.0459885448217392,\n",
       " 0.032731927931308746,\n",
       " -0.008044236339628696,\n",
       " -0.05440270155668259,\n",
       " 0.05022207647562027,\n",
       " 0.020293038338422775,\n",
       " 0.00364170060493052,\n",
       " 0.06190855801105499,\n",
       " 0.04733678698539734,\n",
       " -0.04271857440471649,\n",
       " -0.017658656463027,\n",
       " 0.015339288860559464,\n",
       " -0.010681171901524067,\n",
       " 0.011964927427470684,\n",
       " 0.015735169872641563,\n",
       " -0.029803607612848282,\n",
       " -0.007871332578361034,\n",
       " -0.05417671799659729,\n",
       " -0.02305515855550766,\n",
       " -0.0016729086637496948,\n",
       " 0.006252600345760584,\n",
       " -0.0001467350375605747,\n",
       " 0.0040446179918944836,\n",
       " -0.011635256931185722,\n",
       " -0.009214612655341625,\n",
       " 0.040637336671352386,\n",
       " 0.002736888127401471,\n",
       " 0.04169077053666115,\n",
       " -0.06332015246152878,\n",
       " -0.03613346815109253,\n",
       " -0.030996447429060936,\n",
       " 0.06871543824672699,\n",
       " -0.054565515369176865,\n",
       " 0.009028331376612186,\n",
       " 0.0385391004383564,\n",
       " 0.022919464856386185,\n",
       " -0.0027235045563429594,\n",
       " -0.0028242873959243298,\n",
       " 0.04054207354784012,\n",
       " -0.03992711007595062,\n",
       " -0.03561355173587799,\n",
       " 0.018057208508253098,\n",
       " -0.018575051799416542,\n",
       " 0.000580582651309669,\n",
       " 0.05056791752576828,\n",
       " 0.023649314418435097,\n",
       " 0.03579537943005562,\n",
       " -0.02625519037246704,\n",
       " -0.030987314879894257,\n",
       " -0.0060904063284397125,\n",
       " -0.08298700302839279,\n",
       " -0.0050909086130559444,\n",
       " 0.03868443891406059,\n",
       " -0.036200445145368576,\n",
       " -0.04837559908628464,\n",
       " 0.029997482895851135,\n",
       " -0.04568953812122345,\n",
       " 0.025579961016774178,\n",
       " 0.00366075593046844,\n",
       " -0.04234055429697037,\n",
       " -0.004379378631711006,\n",
       " -0.00131155364215374,\n",
       " -0.09693917632102966,\n",
       " 0.03432893007993698,\n",
       " -0.03395107388496399,\n",
       " 0.03286216780543327,\n",
       " -0.09335104376077652,\n",
       " 0.022154701873660088,\n",
       " -0.014273221604526043,\n",
       " -0.04926401376724243,\n",
       " -0.0379377119243145,\n",
       " 0.0036305654793977737,\n",
       " 0.02154764160513878,\n",
       " -0.03066026233136654,\n",
       " -0.021278712898492813,\n",
       " 0.02433718740940094,\n",
       " -0.06003580987453461,\n",
       " -0.04786163568496704,\n",
       " -0.024698898196220398,\n",
       " 0.02707790583372116,\n",
       " -0.041899219155311584,\n",
       " 0.03722171112895012,\n",
       " 0.034020598977804184,\n",
       " 0.05968959629535675,\n",
       " -0.019929619506001472,\n",
       " 0.021691927686333656,\n",
       " 0.019858434796333313,\n",
       " 0.037270158529281616,\n",
       " 0.04212382808327675,\n",
       " -0.043475858867168427,\n",
       " 0.0510692372918129,\n",
       " -0.05594716966152191,\n",
       " 0.020691636949777603,\n",
       " -0.04756462946534157,\n",
       " -0.05476164445281029,\n",
       " 0.023595834150910378,\n",
       " -0.0034800369758158922,\n",
       " 0.003906591329723597,\n",
       " 0.012530306354165077,\n",
       " -0.03354477137327194,\n",
       " -0.010708927176892757,\n",
       " 0.04011547565460205,\n",
       " -0.004897423088550568,\n",
       " 0.028438016772270203,\n",
       " 0.060833316296339035,\n",
       " 0.0064666997641325,\n",
       " 0.0012229353887960315,\n",
       " 0.006293502636253834,\n",
       " -0.021173281595110893,\n",
       " -0.03461797162890434,\n",
       " 0.0004870725970249623,\n",
       " 0.030936190858483315,\n",
       " 0.027252821251749992,\n",
       " 0.003099376568570733,\n",
       " 0.009915354661643505,\n",
       " -0.018400222063064575,\n",
       " 0.01073618233203888,\n",
       " -0.041734009981155396,\n",
       " -0.027102366089820862,\n",
       " 0.0718889907002449,\n",
       " -0.060117967426776886,\n",
       " 0.0016604851698502898,\n",
       " 0.05537455528974533,\n",
       " -0.02360616996884346,\n",
       " -0.005912963300943375,\n",
       " 0.033898938447237015,\n",
       " 0.0014413611497730017,\n",
       " -0.0037731749471277,\n",
       " 0.018693145364522934,\n",
       " 0.09748944640159607,\n",
       " -0.02081136405467987,\n",
       " 0.014737870544195175,\n",
       " -0.012214301154017448,\n",
       " 0.004707031417638063,\n",
       " -0.05368273705244064,\n",
       " 0.0277484729886055,\n",
       " 0.06552459299564362,\n",
       " -0.08412845432758331,\n",
       " 0.015384391881525517,\n",
       " -0.029675643891096115,\n",
       " -0.05627471208572388,\n",
       " -0.019512472674250603,\n",
       " 0.05452753230929375,\n",
       " -0.03520842641592026,\n",
       " 0.006709694862365723,\n",
       " -0.034639157354831696,\n",
       " 0.09255284816026688,\n",
       " -0.02694048546254635,\n",
       " -0.0012574308784678578,\n",
       " -0.0171691682189703,\n",
       " 0.018995923921465874,\n",
       " 0.031746041029691696,\n",
       " -0.026160966604948044,\n",
       " 0.04989269748330116,\n",
       " -0.013585550710558891,\n",
       " 0.010902773588895798,\n",
       " -0.0158998966217041,\n",
       " 0.016757138073444366,\n",
       " 0.013752805069088936,\n",
       " 0.02934577688574791,\n",
       " -0.02664049156010151,\n",
       " -0.018270671367645264,\n",
       " -0.04811340197920799,\n",
       " -0.021787403151392937,\n",
       " 0.0158311128616333,\n",
       " -0.006565925665199757,\n",
       " -0.0258896816521883,\n",
       " 0.01863364316523075,\n",
       " -0.016528399661183357,\n",
       " 0.040843673050403595,\n",
       " 0.017372898757457733,\n",
       " -0.06455625593662262,\n",
       " -0.029645560309290886,\n",
       " 0.01926541142165661,\n",
       " 0.007523172535002232,\n",
       " -0.011114781722426414,\n",
       " -0.041662927716970444,\n",
       " -0.011501575820147991,\n",
       " -0.01473334152251482,\n",
       " 0.031324706971645355,\n",
       " 0.06810380518436432,\n",
       " 0.0017989283660426736,\n",
       " -0.009523722343146801,\n",
       " 0.06826470047235489,\n",
       " -0.014477227814495564,\n",
       " -0.01106973271816969,\n",
       " 0.03504839912056923,\n",
       " 0.04977076128125191,\n",
       " -0.028845539316534996,\n",
       " 0.0198381170630455,\n",
       " -0.02658163569867611,\n",
       " -0.02482972852885723,\n",
       " -0.0003597577742766589,\n",
       " 0.016520358622074127,\n",
       " -0.02618170715868473,\n",
       " 0.05679573491215706,\n",
       " 0.03575888276100159,\n",
       " 0.004166748840361834,\n",
       " 0.025191621854901314,\n",
       " -0.07843199372291565,\n",
       " 0.09535136073827744,\n",
       " 0.023758260533213615,\n",
       " -0.019520271569490433,\n",
       " 0.03419719263911247,\n",
       " -0.009331682696938515,\n",
       " -0.0833282321691513,\n",
       " 0.0168862733989954,\n",
       " -0.006199922878295183,\n",
       " 0.02225084789097309,\n",
       " -0.013406678102910519,\n",
       " -0.0034696038346737623,\n",
       " 0.051575902849435806,\n",
       " 0.007812927477061749,\n",
       " -0.008522273041307926,\n",
       " -0.008286537602543831,\n",
       " -0.021565105766057968,\n",
       " -0.05815107375383377,\n",
       " 0.0020389643032103777,\n",
       " -0.04155648872256279,\n",
       " 0.06617335975170135,\n",
       " 0.015028099529445171,\n",
       " -0.02362937480211258,\n",
       " -0.004707412328571081,\n",
       " -0.00837963167577982,\n",
       " 0.023396797478199005,\n",
       " -0.04494200646877289,\n",
       " -0.025332363322377205,\n",
       " -0.012933008372783661,\n",
       " -0.0649915412068367,\n",
       " -0.01966574601829052,\n",
       " 0.021477608010172844,\n",
       " 0.06506592780351639,\n",
       " 0.0017059608362615108,\n",
       " 0.029027068987488747,\n",
       " -0.04140560328960419,\n",
       " -0.04822886735200882,\n",
       " 0.0472383014857769,\n",
       " -0.02188430353999138,\n",
       " 0.02432478591799736,\n",
       " 0.08104163408279419,\n",
       " -0.01145830936729908,\n",
       " -0.0175179336220026,\n",
       " -0.04019877687096596,\n",
       " 0.05225444585084915,\n",
       " 0.05547579005360603,\n",
       " 0.05309947952628136,\n",
       " 0.08670375496149063,\n",
       " 0.028198253363370895,\n",
       " -0.01803763210773468,\n",
       " -0.04683305323123932,\n",
       " 0.02687917836010456,\n",
       " 0.010659666731953621,\n",
       " -0.022593988105654716,\n",
       " 0.056335967034101486,\n",
       " 0.003179391846060753,\n",
       " -0.09612199664115906,\n",
       " -0.008494888432323933,\n",
       " 0.03915676474571228,\n",
       " 0.0005505560548044741,\n",
       " -0.026562204584479332,\n",
       " 0.030201945453882217,\n",
       " -0.02030077576637268,\n",
       " -0.02536095678806305,\n",
       " -0.033336151391267776,\n",
       " 0.0367840901017189,\n",
       " -0.042964763939380646,\n",
       " 0.024229930713772774,\n",
       " 0.03295506536960602,\n",
       " -0.0032663631718605757,\n",
       " 0.004662652499973774,\n",
       " 0.025454025715589523,\n",
       " -0.04457942768931389,\n",
       " 0.008177817799150944,\n",
       " 0.02919243462383747,\n",
       " 0.04216289892792702,\n",
       " -0.0381501279771328,\n",
       " 0.05145853012800217,\n",
       " 0.03290388360619545,\n",
       " 0.014352294616401196,\n",
       " 0.03541453182697296,\n",
       " 0.002573590259999037,\n",
       " -0.0475720651447773,\n",
       " -0.05096815899014473,\n",
       " 0.0005013939808122814,\n",
       " 0.012415053322911263,\n",
       " -0.046095188707113266,\n",
       " 0.07253725826740265,\n",
       " 0.05811287835240364,\n",
       " 0.003344101831316948,\n",
       " -0.0022283371072262526,\n",
       " 0.03841778263449669,\n",
       " -0.012623492628335953,\n",
       " 0.027384327724575996,\n",
       " 0.02614574134349823,\n",
       " -0.019673094153404236,\n",
       " -0.011428873054683208,\n",
       " -0.008467239327728748,\n",
       " 0.0017436177004128695,\n",
       " 0.01565789431333542,\n",
       " -0.01666347309947014,\n",
       " -0.012967131100594997,\n",
       " 0.047477852553129196,\n",
       " -0.019578926265239716,\n",
       " 0.00655417051166296,\n",
       " 0.007716168183833361,\n",
       " 0.0013961588265374303,\n",
       " -0.026722006499767303,\n",
       " -0.04393116384744644,\n",
       " -0.0575433224439621,\n",
       " 0.11777272820472717,\n",
       " 0.0426374115049839,\n",
       " 0.01992093212902546,\n",
       " -0.019169125705957413,\n",
       " -0.0023272382095456123,\n",
       " 0.0749235525727272,\n",
       " -0.0028153071179986,\n",
       " 0.025808915495872498,\n",
       " -0.02452939748764038,\n",
       " 0.02437843382358551,\n",
       " 0.029745161533355713,\n",
       " -0.025003552436828613,\n",
       " -0.005932738538831472,\n",
       " 0.03908444568514824,\n",
       " 0.014911948703229427,\n",
       " 0.05735233053565025,\n",
       " 0.01669924147427082,\n",
       " -0.024179616943001747,\n",
       " -0.01363311056047678,\n",
       " 0.028357600793242455,\n",
       " -0.01814154163002968,\n",
       " 0.046033233404159546,\n",
       " 0.025019099935889244,\n",
       " 0.00535557372495532,\n",
       " -0.02281559444963932,\n",
       " 0.033970437943935394,\n",
       " 0.04608243331313133,\n",
       " 0.0016264257719740272,\n",
       " -0.04774511605501175,\n",
       " 0.00381224206648767,\n",
       " -0.020474588498473167,\n",
       " 0.02241329848766327,\n",
       " -0.04950183257460594,\n",
       " 0.02981775440275669,\n",
       " 0.016080791130661964,\n",
       " -0.03886985033750534,\n",
       " 0.049060143530368805,\n",
       " -0.05639827251434326,\n",
       " 0.00987858697772026,\n",
       " 0.05878855288028717,\n",
       " -0.015106475912034512,\n",
       " 0.0814264714717865,\n",
       " -0.034773342311382294,\n",
       " -0.004916457924991846,\n",
       " -0.03948945552110672,\n",
       " -0.03756991773843765,\n",
       " -0.040893785655498505,\n",
       " -0.014794411137700081,\n",
       " 0.014908816665410995,\n",
       " 0.04740094393491745,\n",
       " 0.010135994292795658,\n",
       " -0.021731039509177208,\n",
       " 0.011294675059616566,\n",
       " -0.002999012591317296,\n",
       " -0.02820250578224659,\n",
       " 0.0050860242918133736,\n",
       " -0.06591739505529404,\n",
       " -0.012523059733211994,\n",
       " -0.03203066065907478,\n",
       " 0.059079840779304504,\n",
       " -0.014830559492111206,\n",
       " 0.00011227741197217256,\n",
       " -0.03548402711749077,\n",
       " 0.03158292546868324,\n",
       " -0.016924938187003136,\n",
       " 0.018357552587985992,\n",
       " -0.06680981069803238,\n",
       " 0.014848930761218071,\n",
       " 0.02281131036579609,\n",
       " 0.023717140778899193,\n",
       " -0.011163202114403248,\n",
       " 0.014288670383393764,\n",
       " -0.03075188770890236,\n",
       " -0.004030638840049505]"
      ]
     },
     "execution_count": 15,
     "metadata": {},
     "output_type": "execute_result"
    }
   ],
   "source": [
    "story_vector"
   ]
  },
  {
   "cell_type": "code",
   "execution_count": 0,
   "metadata": {
    "application/vnd.databricks.v1+cell": {
     "cellMetadata": {
      "byteLimit": 2048000,
      "rowLimit": 10000
     },
     "inputWidgets": {},
     "nuid": "2f92eec9-b477-47b0-aa62-df0d6b55ecde",
     "showTitle": false,
     "tableResultSettingsMap": {},
     "title": ""
    }
   },
   "outputs": [
    {
     "output_type": "stream",
     "name": "stdout",
     "output_type": "stream",
     "text": [
      "🧩 Part-of-Speech Tags:\n         The → DET\n         old → ADJ\n         oak → NOUN\n      sighed → VERB\n           , → PUNCT\n           a → DET\n      rustle → NOUN\n        that → PRON\n      echoed → VERB\n     through → ADP\n         the → DET\n       crisp → ADJ\n      autumn → NOUN\n         air → NOUN\n           . → PUNCT\n         One → NUM\n          by → ADP\n         one → NUM\n           , → PUNCT\n         its → PRON\n      leaves → NOUN\n surrendered → VERB\n          to → ADP\n         the → DET\n        pull → NOUN\n          of → ADP\n     gravity → NOUN\n           , → PUNCT\n           a → DET\n     vibrant → ADJ\n        rain → NOUN\n          of → ADP\n     crimson → NOUN\n         and → CCONJ\n        gold → NOUN\n           . → PUNCT\n        They → PRON\n      danced → VERB\n          on → ADP\n         the → DET\n        wind → NOUN\n           , → PUNCT\n    twirling → VERB\n          in → ADP\n   intricate → ADJ\n    patterns → NOUN\n      before → ADP\n    settling → VERB\n          on → ADP\n         the → DET\n      ground → NOUN\n       below → ADV\n           . → PUNCT\n           A → DET\n       young → ADJ\n        girl → NOUN\n           , → PUNCT\n     bundled → VERB\n          in → ADP\n           a → DET\n     scarlet → ADJ\n        coat → NOUN\n           , → PUNCT\n     skipped → VERB\n     through → ADP\n         the → DET\n      fallen → VERB\n      leaves → NOUN\n           , → PUNCT\n         her → PRON\n    laughter → NOUN\n    mingling → VERB\n        with → ADP\n         the → DET\n  whispering → VERB\n      breeze → NOUN\n           . → PUNCT\n             → SPACE\n         The → DET\n         oak → NOUN\n     watched → VERB\n           , → PUNCT\n           a → DET\n      silent → ADJ\n    guardian → NOUN\n           , → PUNCT\n          as → SCONJ\n         its → PRON\n      leaves → NOUN\n      formed → VERB\n           a → DET\n     vibrant → ADJ\n      carpet → NOUN\n           , → PUNCT\n           a → DET\n    farewell → NOUN\n        kiss → NOUN\n          to → ADP\n         the → DET\n        warm → ADJ\n     embrace → NOUN\n          of → ADP\n      summer → NOUN\n           . → PUNCT\n      Winter → PROPN\n         was → AUX\n      coming → VERB\n           , → PUNCT\n         but → CCONJ\n         the → DET\n      memory → NOUN\n          of → ADP\n         sun → NOUN\n           - → PUNCT\n    drenched → VERB\n        days → NOUN\n    lingered → VERB\n          in → ADP\n         the → DET\n    rustling → NOUN\n      leaves → NOUN\n           . → PUNCT\n"
     ]
    }
   ],
   "source": [
    "doc = nlp(story_output)\n",
    "\n",
    "pos_tags = [(token.text, token.pos_) for token in doc]\n",
    "print(\"🧩 Part-of-Speech Tags:\")\n",
    "for word, pos in pos_tags:\n",
    "    print(f\"{word:>12} → {pos}\")"
   ]
  },
  {
   "cell_type": "code",
   "execution_count": 0,
   "metadata": {
    "application/vnd.databricks.v1+cell": {
     "cellMetadata": {
      "byteLimit": 2048000,
      "rowLimit": 10000
     },
     "inputWidgets": {},
     "nuid": "ce1f322c-8559-42d4-b7c6-a78c4d6576e2",
     "showTitle": false,
     "tableResultSettingsMap": {},
     "title": ""
    }
   },
   "outputs": [
    {
     "output_type": "display_data",
     "data": {
      "text/html": [
       "<style scoped>\n",
       "  .table-result-container {\n",
       "    max-height: 300px;\n",
       "    overflow: auto;\n",
       "  }\n",
       "  table, th, td {\n",
       "    border: 1px solid black;\n",
       "    border-collapse: collapse;\n",
       "  }\n",
       "  th, td {\n",
       "    padding: 5px;\n",
       "  }\n",
       "  th {\n",
       "    text-align: left;\n",
       "  }\n",
       "</style><div class='table-result-container'><table class='table-result'><thead style='background-color: white'><tr><th>Word</th><th>POS</th></tr></thead><tbody><tr><td>The</td><td>DET</td></tr><tr><td>old</td><td>ADJ</td></tr><tr><td>oak</td><td>NOUN</td></tr><tr><td>sighed</td><td>VERB</td></tr><tr><td>,</td><td>PUNCT</td></tr><tr><td>a</td><td>DET</td></tr><tr><td>rustle</td><td>NOUN</td></tr><tr><td>that</td><td>PRON</td></tr><tr><td>echoed</td><td>VERB</td></tr><tr><td>through</td><td>ADP</td></tr><tr><td>the</td><td>DET</td></tr><tr><td>crisp</td><td>ADJ</td></tr><tr><td>autumn</td><td>NOUN</td></tr><tr><td>air</td><td>NOUN</td></tr><tr><td>.</td><td>PUNCT</td></tr><tr><td>One</td><td>NUM</td></tr><tr><td>by</td><td>ADP</td></tr><tr><td>one</td><td>NUM</td></tr><tr><td>,</td><td>PUNCT</td></tr><tr><td>its</td><td>PRON</td></tr><tr><td>leaves</td><td>NOUN</td></tr><tr><td>surrendered</td><td>VERB</td></tr><tr><td>to</td><td>ADP</td></tr><tr><td>the</td><td>DET</td></tr><tr><td>pull</td><td>NOUN</td></tr><tr><td>of</td><td>ADP</td></tr><tr><td>gravity</td><td>NOUN</td></tr><tr><td>,</td><td>PUNCT</td></tr><tr><td>a</td><td>DET</td></tr><tr><td>vibrant</td><td>ADJ</td></tr><tr><td>rain</td><td>NOUN</td></tr><tr><td>of</td><td>ADP</td></tr><tr><td>crimson</td><td>NOUN</td></tr><tr><td>and</td><td>CCONJ</td></tr><tr><td>gold</td><td>NOUN</td></tr><tr><td>.</td><td>PUNCT</td></tr><tr><td>They</td><td>PRON</td></tr><tr><td>danced</td><td>VERB</td></tr><tr><td>on</td><td>ADP</td></tr><tr><td>the</td><td>DET</td></tr><tr><td>wind</td><td>NOUN</td></tr><tr><td>,</td><td>PUNCT</td></tr><tr><td>twirling</td><td>VERB</td></tr><tr><td>in</td><td>ADP</td></tr><tr><td>intricate</td><td>ADJ</td></tr><tr><td>patterns</td><td>NOUN</td></tr><tr><td>before</td><td>ADP</td></tr><tr><td>settling</td><td>VERB</td></tr><tr><td>on</td><td>ADP</td></tr><tr><td>the</td><td>DET</td></tr><tr><td>ground</td><td>NOUN</td></tr><tr><td>below</td><td>ADV</td></tr><tr><td>.</td><td>PUNCT</td></tr><tr><td>A</td><td>DET</td></tr><tr><td>young</td><td>ADJ</td></tr><tr><td>girl</td><td>NOUN</td></tr><tr><td>,</td><td>PUNCT</td></tr><tr><td>bundled</td><td>VERB</td></tr><tr><td>in</td><td>ADP</td></tr><tr><td>a</td><td>DET</td></tr><tr><td>scarlet</td><td>ADJ</td></tr><tr><td>coat</td><td>NOUN</td></tr><tr><td>,</td><td>PUNCT</td></tr><tr><td>skipped</td><td>VERB</td></tr><tr><td>through</td><td>ADP</td></tr><tr><td>the</td><td>DET</td></tr><tr><td>fallen</td><td>VERB</td></tr><tr><td>leaves</td><td>NOUN</td></tr><tr><td>,</td><td>PUNCT</td></tr><tr><td>her</td><td>PRON</td></tr><tr><td>laughter</td><td>NOUN</td></tr><tr><td>mingling</td><td>VERB</td></tr><tr><td>with</td><td>ADP</td></tr><tr><td>the</td><td>DET</td></tr><tr><td>whispering</td><td>VERB</td></tr><tr><td>breeze</td><td>NOUN</td></tr><tr><td>.</td><td>PUNCT</td></tr><tr><td> </td><td>SPACE</td></tr><tr><td>The</td><td>DET</td></tr><tr><td>oak</td><td>NOUN</td></tr><tr><td>watched</td><td>VERB</td></tr><tr><td>,</td><td>PUNCT</td></tr><tr><td>a</td><td>DET</td></tr><tr><td>silent</td><td>ADJ</td></tr><tr><td>guardian</td><td>NOUN</td></tr><tr><td>,</td><td>PUNCT</td></tr><tr><td>as</td><td>SCONJ</td></tr><tr><td>its</td><td>PRON</td></tr><tr><td>leaves</td><td>NOUN</td></tr><tr><td>formed</td><td>VERB</td></tr><tr><td>a</td><td>DET</td></tr><tr><td>vibrant</td><td>ADJ</td></tr><tr><td>carpet</td><td>NOUN</td></tr><tr><td>,</td><td>PUNCT</td></tr><tr><td>a</td><td>DET</td></tr><tr><td>farewell</td><td>NOUN</td></tr><tr><td>kiss</td><td>NOUN</td></tr><tr><td>to</td><td>ADP</td></tr><tr><td>the</td><td>DET</td></tr><tr><td>warm</td><td>ADJ</td></tr><tr><td>embrace</td><td>NOUN</td></tr><tr><td>of</td><td>ADP</td></tr><tr><td>summer</td><td>NOUN</td></tr><tr><td>.</td><td>PUNCT</td></tr><tr><td>Winter</td><td>PROPN</td></tr><tr><td>was</td><td>AUX</td></tr><tr><td>coming</td><td>VERB</td></tr><tr><td>,</td><td>PUNCT</td></tr><tr><td>but</td><td>CCONJ</td></tr><tr><td>the</td><td>DET</td></tr><tr><td>memory</td><td>NOUN</td></tr><tr><td>of</td><td>ADP</td></tr><tr><td>sun</td><td>NOUN</td></tr><tr><td>-</td><td>PUNCT</td></tr><tr><td>drenched</td><td>VERB</td></tr><tr><td>days</td><td>NOUN</td></tr><tr><td>lingered</td><td>VERB</td></tr><tr><td>in</td><td>ADP</td></tr><tr><td>the</td><td>DET</td></tr><tr><td>rustling</td><td>NOUN</td></tr><tr><td>leaves</td><td>NOUN</td></tr><tr><td>.</td><td>PUNCT</td></tr></tbody></table></div>"
      ]
     },
     "metadata": {
      "application/vnd.databricks.v1+output": {
       "addedWidgets": {},
       "aggData": [],
       "aggError": "",
       "aggOverflow": false,
       "aggSchema": [],
       "aggSeriesLimitReached": false,
       "aggType": "",
       "arguments": {},
       "columnCustomDisplayInfos": {},
       "data": [
        [
         "The",
         "DET"
        ],
        [
         "old",
         "ADJ"
        ],
        [
         "oak",
         "NOUN"
        ],
        [
         "sighed",
         "VERB"
        ],
        [
         ",",
         "PUNCT"
        ],
        [
         "a",
         "DET"
        ],
        [
         "rustle",
         "NOUN"
        ],
        [
         "that",
         "PRON"
        ],
        [
         "echoed",
         "VERB"
        ],
        [
         "through",
         "ADP"
        ],
        [
         "the",
         "DET"
        ],
        [
         "crisp",
         "ADJ"
        ],
        [
         "autumn",
         "NOUN"
        ],
        [
         "air",
         "NOUN"
        ],
        [
         ".",
         "PUNCT"
        ],
        [
         "One",
         "NUM"
        ],
        [
         "by",
         "ADP"
        ],
        [
         "one",
         "NUM"
        ],
        [
         ",",
         "PUNCT"
        ],
        [
         "its",
         "PRON"
        ],
        [
         "leaves",
         "NOUN"
        ],
        [
         "surrendered",
         "VERB"
        ],
        [
         "to",
         "ADP"
        ],
        [
         "the",
         "DET"
        ],
        [
         "pull",
         "NOUN"
        ],
        [
         "of",
         "ADP"
        ],
        [
         "gravity",
         "NOUN"
        ],
        [
         ",",
         "PUNCT"
        ],
        [
         "a",
         "DET"
        ],
        [
         "vibrant",
         "ADJ"
        ],
        [
         "rain",
         "NOUN"
        ],
        [
         "of",
         "ADP"
        ],
        [
         "crimson",
         "NOUN"
        ],
        [
         "and",
         "CCONJ"
        ],
        [
         "gold",
         "NOUN"
        ],
        [
         ".",
         "PUNCT"
        ],
        [
         "They",
         "PRON"
        ],
        [
         "danced",
         "VERB"
        ],
        [
         "on",
         "ADP"
        ],
        [
         "the",
         "DET"
        ],
        [
         "wind",
         "NOUN"
        ],
        [
         ",",
         "PUNCT"
        ],
        [
         "twirling",
         "VERB"
        ],
        [
         "in",
         "ADP"
        ],
        [
         "intricate",
         "ADJ"
        ],
        [
         "patterns",
         "NOUN"
        ],
        [
         "before",
         "ADP"
        ],
        [
         "settling",
         "VERB"
        ],
        [
         "on",
         "ADP"
        ],
        [
         "the",
         "DET"
        ],
        [
         "ground",
         "NOUN"
        ],
        [
         "below",
         "ADV"
        ],
        [
         ".",
         "PUNCT"
        ],
        [
         "A",
         "DET"
        ],
        [
         "young",
         "ADJ"
        ],
        [
         "girl",
         "NOUN"
        ],
        [
         ",",
         "PUNCT"
        ],
        [
         "bundled",
         "VERB"
        ],
        [
         "in",
         "ADP"
        ],
        [
         "a",
         "DET"
        ],
        [
         "scarlet",
         "ADJ"
        ],
        [
         "coat",
         "NOUN"
        ],
        [
         ",",
         "PUNCT"
        ],
        [
         "skipped",
         "VERB"
        ],
        [
         "through",
         "ADP"
        ],
        [
         "the",
         "DET"
        ],
        [
         "fallen",
         "VERB"
        ],
        [
         "leaves",
         "NOUN"
        ],
        [
         ",",
         "PUNCT"
        ],
        [
         "her",
         "PRON"
        ],
        [
         "laughter",
         "NOUN"
        ],
        [
         "mingling",
         "VERB"
        ],
        [
         "with",
         "ADP"
        ],
        [
         "the",
         "DET"
        ],
        [
         "whispering",
         "VERB"
        ],
        [
         "breeze",
         "NOUN"
        ],
        [
         ".",
         "PUNCT"
        ],
        [
         " ",
         "SPACE"
        ],
        [
         "The",
         "DET"
        ],
        [
         "oak",
         "NOUN"
        ],
        [
         "watched",
         "VERB"
        ],
        [
         ",",
         "PUNCT"
        ],
        [
         "a",
         "DET"
        ],
        [
         "silent",
         "ADJ"
        ],
        [
         "guardian",
         "NOUN"
        ],
        [
         ",",
         "PUNCT"
        ],
        [
         "as",
         "SCONJ"
        ],
        [
         "its",
         "PRON"
        ],
        [
         "leaves",
         "NOUN"
        ],
        [
         "formed",
         "VERB"
        ],
        [
         "a",
         "DET"
        ],
        [
         "vibrant",
         "ADJ"
        ],
        [
         "carpet",
         "NOUN"
        ],
        [
         ",",
         "PUNCT"
        ],
        [
         "a",
         "DET"
        ],
        [
         "farewell",
         "NOUN"
        ],
        [
         "kiss",
         "NOUN"
        ],
        [
         "to",
         "ADP"
        ],
        [
         "the",
         "DET"
        ],
        [
         "warm",
         "ADJ"
        ],
        [
         "embrace",
         "NOUN"
        ],
        [
         "of",
         "ADP"
        ],
        [
         "summer",
         "NOUN"
        ],
        [
         ".",
         "PUNCT"
        ],
        [
         "Winter",
         "PROPN"
        ],
        [
         "was",
         "AUX"
        ],
        [
         "coming",
         "VERB"
        ],
        [
         ",",
         "PUNCT"
        ],
        [
         "but",
         "CCONJ"
        ],
        [
         "the",
         "DET"
        ],
        [
         "memory",
         "NOUN"
        ],
        [
         "of",
         "ADP"
        ],
        [
         "sun",
         "NOUN"
        ],
        [
         "-",
         "PUNCT"
        ],
        [
         "drenched",
         "VERB"
        ],
        [
         "days",
         "NOUN"
        ],
        [
         "lingered",
         "VERB"
        ],
        [
         "in",
         "ADP"
        ],
        [
         "the",
         "DET"
        ],
        [
         "rustling",
         "NOUN"
        ],
        [
         "leaves",
         "NOUN"
        ],
        [
         ".",
         "PUNCT"
        ]
       ],
       "datasetInfos": [],
       "dbfsResultPath": null,
       "isJsonSchema": true,
       "metadata": {},
       "overflow": false,
       "plotOptions": {
        "customPlotOptions": {},
        "displayType": "table",
        "pivotAggregation": null,
        "pivotColumns": null,
        "xColumns": null,
        "yColumns": null
       },
       "removedWidgets": [],
       "schema": [
        {
         "metadata": "{}",
         "name": "Word",
         "type": "\"string\""
        },
        {
         "metadata": "{}",
         "name": "POS",
         "type": "\"string\""
        }
       ],
       "type": "table"
      }
     },
     "output_type": "display_data"
    }
   ],
   "source": [
    "import pandas as pd\n",
    "\n",
    "df = pd.DataFrame(pos_tags, columns=[\"Word\", \"POS\"])\n",
    "display(df)"
   ]
  }
 ],
 "metadata": {
  "application/vnd.databricks.v1+notebook": {
   "computePreferences": null,
   "dashboards": [],
   "environmentMetadata": {
    "base_environment": "",
    "environment_version": "2"
   },
   "inputWidgetPreferences": null,
   "language": "python",
   "notebookMetadata": {
    "pythonIndentUnit": 4
   },
   "notebookName": "Generate 3 outcomes from GenAI model",
   "widgets": {}
  },
  "language_info": {
   "name": "python"
  }
 },
 "nbformat": 4,
 "nbformat_minor": 0
}